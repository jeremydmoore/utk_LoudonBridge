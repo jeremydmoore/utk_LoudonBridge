{
 "cells": [
  {
   "cell_type": "markdown",
   "metadata": {},
   "source": [
    "# Loudon: Rotate Images from List\n",
    "\n",
    "Need to:\n",
    "1. some of the images need to be rotated CW/CCW to a horizontal page\n",
    "1. save as uncompressed, 8-bit TIFF in AdobeRGB (1998)"
   ]
  },
  {
   "cell_type": "code",
   "execution_count": 1,
   "metadata": {
    "code_folding": []
   },
   "outputs": [],
   "source": [
    "# importing\n",
    "from pathlib import Path\n",
    "from subprocess import call\n",
    "\n",
    "import pandas as pd\n",
    "from ipywidgets import IntProgress, Label, VBox\n",
    "from IPython.display import display\n",
    "from PIL import Image"
   ]
  },
  {
   "cell_type": "code",
   "execution_count": 2,
   "metadata": {
    "code_folding": []
   },
   "outputs": [],
   "source": [
    "def rotate_image(image_path, angle):\n",
    "    \n",
    "    # open image\n",
    "    image = Image.open(image_path)\n",
    "    \n",
    "    # rotate image\n",
    "    image = image.rotate(-angle, resample=Image.BICUBIC, expand=True)  # negative for cw\n",
    "    \n",
    "    # create output_directory\n",
    "    output_directory = image_directory_path.joinpath('00_rotated')\n",
    "    output_directory.mkdir(exist_ok=True)\n",
    "    output_path = output_directory.joinpath(image_path.name)\n",
    "    \n",
    "    # save image\n",
    "    image.save(output_path, compression=None, dpi=image.info['dpi'])\n",
    "    \n",
    "    # use exiftool to copy ICC profile from original to output image\n",
    "    cmd = f' exiftool -tagsfromfile {str(image_path)} -ICC_Profile -overwrite_original -q {str(output_path)}'\n",
    "    call(cmd, shell=True)"
   ]
  },
  {
   "cell_type": "code",
   "execution_count": 16,
   "metadata": {},
   "outputs": [],
   "source": [
    "# read data from Google Sheets clipboard\n",
    "# NOTE: the first item in the copy/paste will be used as the column title\n",
    "dataframe_rotate_90_degrees = pd.read_clipboard()"
   ]
  },
  {
   "cell_type": "code",
   "execution_count": 17,
   "metadata": {},
   "outputs": [
    {
     "data": {
      "text/html": [
       "<div>\n",
       "<style scoped>\n",
       "    .dataframe tbody tr th:only-of-type {\n",
       "        vertical-align: middle;\n",
       "    }\n",
       "\n",
       "    .dataframe tbody tr th {\n",
       "        vertical-align: top;\n",
       "    }\n",
       "\n",
       "    .dataframe thead th {\n",
       "        text-align: right;\n",
       "    }\n",
       "</style>\n",
       "<table border=\"1\" class=\"dataframe\">\n",
       "  <thead>\n",
       "    <tr style=\"text-align: right;\">\n",
       "      <th></th>\n",
       "      <th>image_list_rotate_90</th>\n",
       "    </tr>\n",
       "  </thead>\n",
       "  <tbody>\n",
       "    <tr>\n",
       "      <th>0</th>\n",
       "      <td>MS2685-1-1-1_0001</td>\n",
       "    </tr>\n",
       "    <tr>\n",
       "      <th>1</th>\n",
       "      <td>MS2685-1-1-1_0002</td>\n",
       "    </tr>\n",
       "    <tr>\n",
       "      <th>2</th>\n",
       "      <td>MS2685-1-1-1_0003</td>\n",
       "    </tr>\n",
       "    <tr>\n",
       "      <th>3</th>\n",
       "      <td>MS2685-1-1-1_0004</td>\n",
       "    </tr>\n",
       "    <tr>\n",
       "      <th>4</th>\n",
       "      <td>MS2685-1-1-1_0005</td>\n",
       "    </tr>\n",
       "    <tr>\n",
       "      <th>5</th>\n",
       "      <td>MS2685-1-1-1_0006</td>\n",
       "    </tr>\n",
       "    <tr>\n",
       "      <th>6</th>\n",
       "      <td>MS2685-1-1-1_0008</td>\n",
       "    </tr>\n",
       "    <tr>\n",
       "      <th>7</th>\n",
       "      <td>MS2685-1-1-1_0011</td>\n",
       "    </tr>\n",
       "    <tr>\n",
       "      <th>8</th>\n",
       "      <td>MS2685-1-1-1_0012</td>\n",
       "    </tr>\n",
       "    <tr>\n",
       "      <th>9</th>\n",
       "      <td>MS2685-1-1-1_0019</td>\n",
       "    </tr>\n",
       "    <tr>\n",
       "      <th>10</th>\n",
       "      <td>MS2685-1-1-1_0027</td>\n",
       "    </tr>\n",
       "    <tr>\n",
       "      <th>11</th>\n",
       "      <td>MS2685-1-1-1_0028</td>\n",
       "    </tr>\n",
       "    <tr>\n",
       "      <th>12</th>\n",
       "      <td>MS2685-1-1-1_0035</td>\n",
       "    </tr>\n",
       "    <tr>\n",
       "      <th>13</th>\n",
       "      <td>MS2685-1-1-1_0036</td>\n",
       "    </tr>\n",
       "    <tr>\n",
       "      <th>14</th>\n",
       "      <td>MS2685-1-1-1_0040</td>\n",
       "    </tr>\n",
       "    <tr>\n",
       "      <th>15</th>\n",
       "      <td>MS2686-1-1-2_0005</td>\n",
       "    </tr>\n",
       "    <tr>\n",
       "      <th>16</th>\n",
       "      <td>MS2686-1-1-2_0006</td>\n",
       "    </tr>\n",
       "    <tr>\n",
       "      <th>17</th>\n",
       "      <td>MS2686-1-1-2_0013</td>\n",
       "    </tr>\n",
       "    <tr>\n",
       "      <th>18</th>\n",
       "      <td>MS2686-1-1-2_0014</td>\n",
       "    </tr>\n",
       "    <tr>\n",
       "      <th>19</th>\n",
       "      <td>MS2686-1-1-2_0015</td>\n",
       "    </tr>\n",
       "    <tr>\n",
       "      <th>20</th>\n",
       "      <td>MS2686-1-1-3_0005</td>\n",
       "    </tr>\n",
       "    <tr>\n",
       "      <th>21</th>\n",
       "      <td>MS2686-1-1-3_0006</td>\n",
       "    </tr>\n",
       "    <tr>\n",
       "      <th>22</th>\n",
       "      <td>MS2686-1-1-2_0016</td>\n",
       "    </tr>\n",
       "  </tbody>\n",
       "</table>\n",
       "</div>"
      ],
      "text/plain": [
       "   image_list_rotate_90\n",
       "0     MS2685-1-1-1_0001\n",
       "1     MS2685-1-1-1_0002\n",
       "2     MS2685-1-1-1_0003\n",
       "3     MS2685-1-1-1_0004\n",
       "4     MS2685-1-1-1_0005\n",
       "5     MS2685-1-1-1_0006\n",
       "6     MS2685-1-1-1_0008\n",
       "7     MS2685-1-1-1_0011\n",
       "8     MS2685-1-1-1_0012\n",
       "9     MS2685-1-1-1_0019\n",
       "10    MS2685-1-1-1_0027\n",
       "11    MS2685-1-1-1_0028\n",
       "12    MS2685-1-1-1_0035\n",
       "13    MS2685-1-1-1_0036\n",
       "14    MS2685-1-1-1_0040\n",
       "15    MS2686-1-1-2_0005\n",
       "16    MS2686-1-1-2_0006\n",
       "17    MS2686-1-1-2_0013\n",
       "18    MS2686-1-1-2_0014\n",
       "19    MS2686-1-1-2_0015\n",
       "20    MS2686-1-1-3_0005\n",
       "21    MS2686-1-1-3_0006\n",
       "22    MS2686-1-1-2_0016"
      ]
     },
     "execution_count": 17,
     "metadata": {},
     "output_type": "execute_result"
    }
   ],
   "source": [
    "dataframe_rotate_90_degrees"
   ]
  },
  {
   "cell_type": "code",
   "execution_count": 18,
   "metadata": {},
   "outputs": [
    {
     "data": {
      "text/plain": [
       "0    MS2685-1-1-1_0001\n",
       "1    MS2685-1-1-1_0002\n",
       "2    MS2685-1-1-1_0003\n",
       "3    MS2685-1-1-1_0004\n",
       "4    MS2685-1-1-1_0005\n",
       "Name: image_list_rotate_90, dtype: object"
      ]
     },
     "execution_count": 18,
     "metadata": {},
     "output_type": "execute_result"
    }
   ],
   "source": [
    "dataframe_rotate_90_degrees['image_list_rotate_90'].head(5)"
   ]
  },
  {
   "cell_type": "code",
   "execution_count": 19,
   "metadata": {},
   "outputs": [
    {
     "data": {
      "text/plain": [
       "['MS2685-1-1-1_0001',\n",
       " 'MS2685-1-1-1_0002',\n",
       " 'MS2685-1-1-1_0003',\n",
       " 'MS2685-1-1-1_0004',\n",
       " 'MS2685-1-1-1_0005',\n",
       " 'MS2685-1-1-1_0006',\n",
       " 'MS2685-1-1-1_0008',\n",
       " 'MS2685-1-1-1_0011',\n",
       " 'MS2685-1-1-1_0012',\n",
       " 'MS2685-1-1-1_0019',\n",
       " 'MS2685-1-1-1_0027',\n",
       " 'MS2685-1-1-1_0028',\n",
       " 'MS2685-1-1-1_0035',\n",
       " 'MS2685-1-1-1_0036',\n",
       " 'MS2685-1-1-1_0040',\n",
       " 'MS2686-1-1-2_0005',\n",
       " 'MS2686-1-1-2_0006',\n",
       " 'MS2686-1-1-2_0013',\n",
       " 'MS2686-1-1-2_0014',\n",
       " 'MS2686-1-1-2_0015',\n",
       " 'MS2686-1-1-3_0005',\n",
       " 'MS2686-1-1-3_0006',\n",
       " 'MS2686-1-1-2_0016']"
      ]
     },
     "execution_count": 19,
     "metadata": {},
     "output_type": "execute_result"
    }
   ],
   "source": [
    "# Loudon Bridge rotate 90 degrees list\n",
    "# pandas column to list https://stackoverflow.com/a/22341390\n",
    "image_list_rotate_90 = dataframe_rotate_90_degrees['image_list_rotate_90'].tolist()\n",
    "image_list_rotate_90"
   ]
  },
  {
   "cell_type": "code",
   "execution_count": 20,
   "metadata": {},
   "outputs": [
    {
     "data": {
      "text/plain": [
       "WindowsPath('C:/Users/dlisla/Documents/GitHub/utk_LoudonBridge')"
      ]
     },
     "execution_count": 20,
     "metadata": {},
     "output_type": "execute_result"
    }
   ],
   "source": [
    "Path.cwd()"
   ]
  },
  {
   "cell_type": "code",
   "execution_count": 21,
   "metadata": {},
   "outputs": [
    {
     "name": "stdout",
     "output_type": "stream",
     "text": [
      "C:\\Users\\dlisla\\Documents\\GitHub\n"
     ]
    }
   ],
   "source": [
    "cd .."
   ]
  },
  {
   "cell_type": "code",
   "execution_count": 22,
   "metadata": {},
   "outputs": [
    {
     "name": "stdout",
     "output_type": "stream",
     "text": [
      "C:\\Users\\dlisla\\Documents\\GitHub\\utk_LoudonBridge\n"
     ]
    }
   ],
   "source": [
    "cd utk_LoudonBridge/"
   ]
  },
  {
   "cell_type": "code",
   "execution_count": 23,
   "metadata": {
    "code_folding": [
     0
    ]
   },
   "outputs": [
    {
     "data": {
      "application/vnd.jupyter.widget-view+json": {
       "model_id": "644e114e5b3d49da8b62d1ac07a22d6f",
       "version_major": 2,
       "version_minor": 0
      },
      "text/plain": [
       "VBox(children=(Label(value='23 images to rotate . . .'), IntProgress(value=0, max=23)))"
      ]
     },
     "metadata": {},
     "output_type": "display_data"
    },
    {
     "name": "stdout",
     "output_type": "stream",
     "text": [
      "23 images rotated\n"
     ]
    }
   ],
   "source": [
    "# batch rotate 90\n",
    "\n",
    "# progress bar\n",
    "progress_label = Label(f'{len(image_list_rotate_90)} images to rotate . . .')\n",
    "progress_bar = IntProgress(min=0, max=len(image_list_rotate_90))\n",
    "progress_widget = VBox([progress_label, progress_bar])\n",
    "display(progress_widget)\n",
    "\n",
    "count = 0\n",
    "\n",
    "# batch rotate cw\n",
    "for index, image_name in enumerate(image_list_rotate_90, start=1):\n",
    "    #print(f'image_name without extension: {image_name}')\n",
    "    \n",
    "    image_name = f'{image_name}.tif'\n",
    "    #print(f'image_name with extension: {image_name}')\n",
    "    \n",
    "    image_directory_path = Path('data/ex1/00_cropped/')\n",
    "    #print(f'image_directory_path: {image_directory_path}')\n",
    "    \n",
    "    image_path = image_directory_path.joinpath(image_name)\n",
    "    #print(f'image_path: {image_path}')\n",
    "   \n",
    "    #print(image_path.is_file())\n",
    "\n",
    "    #print('')\n",
    "    \n",
    "    if image_path.is_file():\n",
    "        \n",
    "        progress_label.value = image_path.name\n",
    "        rotate_image(image_path, 90)\n",
    "        progress_bar.value = index\n",
    "        \n",
    "        rotated_image_path = image_directory_path.joinpath('00_rotated', image_path.name)\n",
    "        if rotated_image_path.is_file():\n",
    "            count += 1\n",
    "    \n",
    "print(f'{count} images rotated')"
   ]
  },
  {
   "cell_type": "code",
   "execution_count": 14,
   "metadata": {
    "scrolled": true
   },
   "outputs": [
    {
     "data": {
      "text/plain": [
       "['MS2685-1-1-1_0020', 'MS2686-1-1-2_0016']"
      ]
     },
     "execution_count": 14,
     "metadata": {},
     "output_type": "execute_result"
    }
   ],
   "source": [
    "# read data from Google Sheets clipboard\n",
    "# NOTE: the first item in the copy/paste will be used as the column title\n",
    "dataframe_rotate_270_degrees = pd.read_clipboard()\n",
    "\n",
    "image_list_rotate_270 = dataframe_rotate_270_degrees['image_list_rotate_270'].tolist()\n",
    "image_list_rotate_270"
   ]
  },
  {
   "cell_type": "code",
   "execution_count": 15,
   "metadata": {
    "code_folding": [
     0
    ]
   },
   "outputs": [
    {
     "data": {
      "application/vnd.jupyter.widget-view+json": {
       "model_id": "b36d5ec50dde4e978fb83bc44dc6c3eb",
       "version_major": 2,
       "version_minor": 0
      },
      "text/plain": [
       "VBox(children=(Label(value='2 images to rotate . . .'), IntProgress(value=0, max=2)))"
      ]
     },
     "metadata": {},
     "output_type": "display_data"
    },
    {
     "name": "stdout",
     "output_type": "stream",
     "text": [
      "2 images rotated\n"
     ]
    }
   ],
   "source": [
    "# batch rotate 270\n",
    "\n",
    "# progress bar\n",
    "progress_label = Label(f'{len(image_list_rotate_270)} images to rotate . . .')\n",
    "progress_bar = IntProgress(min=0, max=len(image_list_rotate_270))\n",
    "progress_widget = VBox([progress_label, progress_bar])\n",
    "display(progress_widget)\n",
    "\n",
    "count = 0\n",
    "\n",
    "# batch rotate cw\n",
    "for index, image_name in enumerate(image_list_rotate_270, start=1):\n",
    "    #print(f'image_name without extension: {image_name}')\n",
    "    \n",
    "    image_name = f'{image_name}.tif'\n",
    "    #print(f'image_name with extension: {image_name}')\n",
    "    \n",
    "    image_directory_path = Path('data/ex1/00_cropped/')\n",
    "    #print(f'image_directory_path: {image_directory_path}')\n",
    "    \n",
    "    image_path = image_directory_path.joinpath(image_name)\n",
    "    #print(f'image_path: {image_path}')\n",
    "   \n",
    "    #print(image_path.is_file())\n",
    "\n",
    "    #print('')\n",
    "    \n",
    "    if image_path.is_file():\n",
    "        \n",
    "        progress_label.value = image_path.name\n",
    "        rotate_image(image_path, 270)\n",
    "        progress_bar.value = index\n",
    "        \n",
    "        rotated_image_path = image_directory_path.joinpath('00_rotated', image_path.name)\n",
    "        if rotated_image_path.is_file():\n",
    "            count += 1\n",
    "    \n",
    "print(f'{count} images rotated')"
   ]
  },
  {
   "cell_type": "code",
   "execution_count": null,
   "metadata": {},
   "outputs": [],
   "source": []
  }
 ],
 "metadata": {
  "kernelspec": {
   "display_name": "Python 3",
   "language": "python",
   "name": "python3"
  },
  "language_info": {
   "codemirror_mode": {
    "name": "ipython",
    "version": 3
   },
   "file_extension": ".py",
   "mimetype": "text/x-python",
   "name": "python",
   "nbconvert_exporter": "python",
   "pygments_lexer": "ipython3",
   "version": "3.6.8"
  },
  "varInspector": {
   "cols": {
    "lenName": 16,
    "lenType": 16,
    "lenVar": 40
   },
   "kernels_config": {
    "python": {
     "delete_cmd_postfix": "",
     "delete_cmd_prefix": "del ",
     "library": "var_list.py",
     "varRefreshCmd": "print(var_dic_list())"
    },
    "r": {
     "delete_cmd_postfix": ") ",
     "delete_cmd_prefix": "rm(",
     "library": "var_list.r",
     "varRefreshCmd": "cat(var_dic_list()) "
    }
   },
   "types_to_exclude": [
    "module",
    "function",
    "builtin_function_or_method",
    "instance",
    "_Feature"
   ],
   "window_display": false
  },
  "widgets": {
   "application/vnd.jupyter.widget-state+json": {
    "state": {
     "004b7b975b5642ffb7ba5871923a9560": {
      "model_module": "@jupyter-widgets/controls",
      "model_module_version": "1.4.0",
      "model_name": "VBoxModel",
      "state": {
       "children": [
        "IPY_MODEL_7b7fe48b6fe14483b0997b9625d8121e",
        "IPY_MODEL_8b29569df5b04dd9a0b6a7f01be09089"
       ],
       "layout": "IPY_MODEL_ad8e19d6b3e04af781ea9305b7e1c92c"
      }
     },
     "02e44ef6c17c473ba250d1abc0048c4f": {
      "model_module": "@jupyter-widgets/controls",
      "model_module_version": "1.4.0",
      "model_name": "DescriptionStyleModel",
      "state": {
       "description_width": ""
      }
     },
     "0494c69c2cef4237b1c93442a9918a1c": {
      "model_module": "@jupyter-widgets/controls",
      "model_module_version": "1.4.0",
      "model_name": "LabelModel",
      "state": {
       "layout": "IPY_MODEL_268c6203061c4aefad8e28e49091226b",
       "style": "IPY_MODEL_e116e703e502495d9ec9f6eec4de0180",
       "value": "MS2686-1-1-3_0006.tif"
      }
     },
     "0f5dbd88465d4f91afde10a6c3dbb27e": {
      "model_module": "@jupyter-widgets/controls",
      "model_module_version": "1.4.0",
      "model_name": "ProgressStyleModel",
      "state": {
       "description_width": ""
      }
     },
     "10267df2b9444061a0eda8dde8528fd9": {
      "model_module": "@jupyter-widgets/controls",
      "model_module_version": "1.4.0",
      "model_name": "IntProgressModel",
      "state": {
       "layout": "IPY_MODEL_d37c809f27904dcab59386e677f29d22",
       "max": 24,
       "style": "IPY_MODEL_3058ecbf40414cacad423be898a28671"
      }
     },
     "11b177349cc046cdab1f109ebd57a377": {
      "model_module": "@jupyter-widgets/controls",
      "model_module_version": "1.4.0",
      "model_name": "IntProgressModel",
      "state": {
       "layout": "IPY_MODEL_b3b3d3d6870543fe833a27883eec46ac",
       "max": 24,
       "style": "IPY_MODEL_2dfe2320ecef4f52a99960acd1d55e1a"
      }
     },
     "1809b21221654ecda75e8d401d6fbcac": {
      "model_module": "@jupyter-widgets/controls",
      "model_module_version": "1.4.0",
      "model_name": "IntProgressModel",
      "state": {
       "layout": "IPY_MODEL_22265aedb4c4460f8b33483cbdc349b1",
       "max": 22,
       "style": "IPY_MODEL_353b3d3e610649de9126c7b0dedf1b73",
       "value": 22
      }
     },
     "197754b7c3d845e8af16f00bebe0e98c": {
      "model_module": "@jupyter-widgets/controls",
      "model_module_version": "1.4.0",
      "model_name": "VBoxModel",
      "state": {
       "children": [
        "IPY_MODEL_8f360a21263b4639a01f7c7d1f58cb34",
        "IPY_MODEL_2cdb95833ad14a44880eb6afe7e0754e"
       ],
       "layout": "IPY_MODEL_7322b9dcd5404f43a3450d6d2c8252bd"
      }
     },
     "20fb8600790f4cf0b13293402e2642fd": {
      "model_module": "@jupyter-widgets/controls",
      "model_module_version": "1.4.0",
      "model_name": "LabelModel",
      "state": {
       "layout": "IPY_MODEL_367b30677c4342099f809cbd2aa371b0",
       "style": "IPY_MODEL_f567f43ccf6d4e49a6f977dbc39c87ff",
       "value": "MS2686-1-1-3_0006.tif"
      }
     },
     "21139eb6b2f84590a76eeff4a599001a": {
      "model_module": "@jupyter-widgets/controls",
      "model_module_version": "1.4.0",
      "model_name": "VBoxModel",
      "state": {
       "children": [
        "IPY_MODEL_fd54e06b53fd4296b3b99da8b8dc2d4c",
        "IPY_MODEL_11b177349cc046cdab1f109ebd57a377"
       ],
       "layout": "IPY_MODEL_a35cd9b560214b3a9fb7af710b3ef759"
      }
     },
     "22265aedb4c4460f8b33483cbdc349b1": {
      "model_module": "@jupyter-widgets/base",
      "model_module_version": "1.1.0",
      "model_name": "LayoutModel",
      "state": {}
     },
     "2291cec9a0024dd2b9b2d7f3fbeeaec7": {
      "model_module": "@jupyter-widgets/controls",
      "model_module_version": "1.4.0",
      "model_name": "LabelModel",
      "state": {
       "layout": "IPY_MODEL_c5f2c06afec84cb0a76ea69102d64eb4",
       "style": "IPY_MODEL_97dfb4766d99485fa0b2fc0a73430b02",
       "value": "24 images to rotate . . ."
      }
     },
     "268c6203061c4aefad8e28e49091226b": {
      "model_module": "@jupyter-widgets/base",
      "model_module_version": "1.1.0",
      "model_name": "LayoutModel",
      "state": {}
     },
     "290a4116f82f4d729d6b4715fed43dfc": {
      "model_module": "@jupyter-widgets/base",
      "model_module_version": "1.1.0",
      "model_name": "LayoutModel",
      "state": {}
     },
     "29f41a984f2c40b8b8aae670f169a1d1": {
      "model_module": "@jupyter-widgets/base",
      "model_module_version": "1.1.0",
      "model_name": "LayoutModel",
      "state": {}
     },
     "2cdb95833ad14a44880eb6afe7e0754e": {
      "model_module": "@jupyter-widgets/controls",
      "model_module_version": "1.4.0",
      "model_name": "IntProgressModel",
      "state": {
       "layout": "IPY_MODEL_af0c9304c8e148ca8b471f532c8ea4d6",
       "max": 24,
       "style": "IPY_MODEL_dae5f6f994ec42c29fa20fe984774b0b"
      }
     },
     "2dfe2320ecef4f52a99960acd1d55e1a": {
      "model_module": "@jupyter-widgets/controls",
      "model_module_version": "1.4.0",
      "model_name": "ProgressStyleModel",
      "state": {
       "description_width": ""
      }
     },
     "2fa6db64c8014e9a8b84e1208c82319f": {
      "model_module": "@jupyter-widgets/controls",
      "model_module_version": "1.4.0",
      "model_name": "DescriptionStyleModel",
      "state": {
       "description_width": ""
      }
     },
     "2fbec55e3a4a413db4796bedd7650e5b": {
      "model_module": "@jupyter-widgets/base",
      "model_module_version": "1.1.0",
      "model_name": "LayoutModel",
      "state": {}
     },
     "3058ecbf40414cacad423be898a28671": {
      "model_module": "@jupyter-widgets/controls",
      "model_module_version": "1.4.0",
      "model_name": "ProgressStyleModel",
      "state": {
       "description_width": ""
      }
     },
     "3519e21ad01543c98ee1a5ac0f29fdc8": {
      "model_module": "@jupyter-widgets/base",
      "model_module_version": "1.1.0",
      "model_name": "LayoutModel",
      "state": {}
     },
     "353b3d3e610649de9126c7b0dedf1b73": {
      "model_module": "@jupyter-widgets/controls",
      "model_module_version": "1.4.0",
      "model_name": "ProgressStyleModel",
      "state": {
       "description_width": ""
      }
     },
     "367b30677c4342099f809cbd2aa371b0": {
      "model_module": "@jupyter-widgets/base",
      "model_module_version": "1.1.0",
      "model_name": "LayoutModel",
      "state": {}
     },
     "38ea1235540b44d1859961de4f77e4bf": {
      "model_module": "@jupyter-widgets/base",
      "model_module_version": "1.1.0",
      "model_name": "LayoutModel",
      "state": {}
     },
     "397333c392be41ddb23dfde52cb560f9": {
      "model_module": "@jupyter-widgets/controls",
      "model_module_version": "1.4.0",
      "model_name": "VBoxModel",
      "state": {
       "children": [
        "IPY_MODEL_5799680004274c05bf4acffc9f6dae08",
        "IPY_MODEL_62b016809cfa4124ad297944832dc12b"
       ],
       "layout": "IPY_MODEL_d79b9af7f2b34f43a790d5705bb71722"
      }
     },
     "3e2adb07d26b4a8389762a73e3ad2f59": {
      "model_module": "@jupyter-widgets/controls",
      "model_module_version": "1.4.0",
      "model_name": "DescriptionStyleModel",
      "state": {
       "description_width": ""
      }
     },
     "463f4d1346ac405c812a2dd25c31bed7": {
      "model_module": "@jupyter-widgets/controls",
      "model_module_version": "1.4.0",
      "model_name": "IntProgressModel",
      "state": {
       "layout": "IPY_MODEL_29f41a984f2c40b8b8aae670f169a1d1",
       "max": 22,
       "style": "IPY_MODEL_7c9b26f1bd35457f932899156c398e38",
       "value": 4
      }
     },
     "4827a7d7711a4870a228375ce954f2df": {
      "model_module": "@jupyter-widgets/base",
      "model_module_version": "1.1.0",
      "model_name": "LayoutModel",
      "state": {}
     },
     "4e8a7daecdcb42a8be28706c522bc279": {
      "model_module": "@jupyter-widgets/controls",
      "model_module_version": "1.4.0",
      "model_name": "ProgressStyleModel",
      "state": {
       "description_width": ""
      }
     },
     "4f05b6955453419aab84632bbf2497d3": {
      "model_module": "@jupyter-widgets/base",
      "model_module_version": "1.1.0",
      "model_name": "LayoutModel",
      "state": {}
     },
     "4fe8ca6a13bd4459a8dd324cca165dd3": {
      "model_module": "@jupyter-widgets/controls",
      "model_module_version": "1.4.0",
      "model_name": "LabelModel",
      "state": {
       "layout": "IPY_MODEL_93a53de306b44d0b88966b16fd32dd64",
       "style": "IPY_MODEL_9e8257f582d646fdb16a09f79359c64f",
       "value": "24 images to rotate . . ."
      }
     },
     "5799680004274c05bf4acffc9f6dae08": {
      "model_module": "@jupyter-widgets/controls",
      "model_module_version": "1.4.0",
      "model_name": "LabelModel",
      "state": {
       "layout": "IPY_MODEL_810c37d4f56740288ffedc17b74730a5",
       "style": "IPY_MODEL_7a324b59bbc84d1ab9981bbb9472a49f",
       "value": "24 images to rotate . . ."
      }
     },
     "5c9ccdfebf8445a596dc451dc817baed": {
      "model_module": "@jupyter-widgets/base",
      "model_module_version": "1.1.0",
      "model_name": "LayoutModel",
      "state": {}
     },
     "5fb0e507e006460991ecc623ac3b45be": {
      "model_module": "@jupyter-widgets/base",
      "model_module_version": "1.1.0",
      "model_name": "LayoutModel",
      "state": {}
     },
     "5ff320f2772a43c0b27d447fca1af5a0": {
      "model_module": "@jupyter-widgets/controls",
      "model_module_version": "1.4.0",
      "model_name": "IntProgressModel",
      "state": {
       "layout": "IPY_MODEL_f69f2261d5d14da7bd996b271c7c6243",
       "max": 24,
       "style": "IPY_MODEL_aff4f7cee4e94f3a895ca51a279f4bf8"
      }
     },
     "62b016809cfa4124ad297944832dc12b": {
      "model_module": "@jupyter-widgets/controls",
      "model_module_version": "1.4.0",
      "model_name": "IntProgressModel",
      "state": {
       "layout": "IPY_MODEL_290a4116f82f4d729d6b4715fed43dfc",
       "max": 24,
       "style": "IPY_MODEL_af72b52666c64445aab30ecef40fbee2"
      }
     },
     "679d509dc961408692eefa57ebaf309c": {
      "model_module": "@jupyter-widgets/controls",
      "model_module_version": "1.4.0",
      "model_name": "IntProgressModel",
      "state": {
       "layout": "IPY_MODEL_5fb0e507e006460991ecc623ac3b45be",
       "max": 24,
       "style": "IPY_MODEL_f20686b057094480a836231b5df70360"
      }
     },
     "68a5c9bea8f745f2bbaf89636b02dc1a": {
      "model_module": "@jupyter-widgets/base",
      "model_module_version": "1.1.0",
      "model_name": "LayoutModel",
      "state": {}
     },
     "69309438c9e54f5d8929f0a5945296b9": {
      "model_module": "@jupyter-widgets/controls",
      "model_module_version": "1.4.0",
      "model_name": "IntProgressModel",
      "state": {
       "layout": "IPY_MODEL_6a6f498a78bb41418b22bfdde442a5cf",
       "max": 24,
       "style": "IPY_MODEL_0f5dbd88465d4f91afde10a6c3dbb27e"
      }
     },
     "6a6f498a78bb41418b22bfdde442a5cf": {
      "model_module": "@jupyter-widgets/base",
      "model_module_version": "1.1.0",
      "model_name": "LayoutModel",
      "state": {}
     },
     "6ad851cd54f04ccb810138a124c4874d": {
      "model_module": "@jupyter-widgets/controls",
      "model_module_version": "1.4.0",
      "model_name": "DescriptionStyleModel",
      "state": {
       "description_width": ""
      }
     },
     "7322b9dcd5404f43a3450d6d2c8252bd": {
      "model_module": "@jupyter-widgets/base",
      "model_module_version": "1.1.0",
      "model_name": "LayoutModel",
      "state": {}
     },
     "74da9cc6ccdd4e1388a3d0d5b718ab8e": {
      "model_module": "@jupyter-widgets/controls",
      "model_module_version": "1.4.0",
      "model_name": "VBoxModel",
      "state": {
       "children": [
        "IPY_MODEL_a60bcc2e71414c1684d02d588515b225",
        "IPY_MODEL_f387b8e7c05c45c98590f0bf2577fac3"
       ],
       "layout": "IPY_MODEL_4827a7d7711a4870a228375ce954f2df"
      }
     },
     "752e7be6f0b64db8a9e3d731dd3b01b6": {
      "model_module": "@jupyter-widgets/base",
      "model_module_version": "1.1.0",
      "model_name": "LayoutModel",
      "state": {}
     },
     "76e952d7fe7848aaad2e59ee0c4d91cd": {
      "model_module": "@jupyter-widgets/controls",
      "model_module_version": "1.4.0",
      "model_name": "LabelModel",
      "state": {
       "layout": "IPY_MODEL_a20567c95892489b9eb5ca5e8b17e292",
       "style": "IPY_MODEL_c94b2e739f71468fac1060a8418efcc1",
       "value": "24 images to rotate . . ."
      }
     },
     "7a324b59bbc84d1ab9981bbb9472a49f": {
      "model_module": "@jupyter-widgets/controls",
      "model_module_version": "1.4.0",
      "model_name": "DescriptionStyleModel",
      "state": {
       "description_width": ""
      }
     },
     "7b09402a6e414d80b50e99dc32230566": {
      "model_module": "@jupyter-widgets/base",
      "model_module_version": "1.1.0",
      "model_name": "LayoutModel",
      "state": {}
     },
     "7b7fe48b6fe14483b0997b9625d8121e": {
      "model_module": "@jupyter-widgets/controls",
      "model_module_version": "1.4.0",
      "model_name": "LabelModel",
      "state": {
       "layout": "IPY_MODEL_3519e21ad01543c98ee1a5ac0f29fdc8",
       "style": "IPY_MODEL_2fa6db64c8014e9a8b84e1208c82319f",
       "value": "MS2686-1-1-3_0006.tif"
      }
     },
     "7c9b26f1bd35457f932899156c398e38": {
      "model_module": "@jupyter-widgets/controls",
      "model_module_version": "1.4.0",
      "model_name": "ProgressStyleModel",
      "state": {
       "description_width": ""
      }
     },
     "7db6c3bbfe334845ad14b166b344130c": {
      "model_module": "@jupyter-widgets/controls",
      "model_module_version": "1.4.0",
      "model_name": "VBoxModel",
      "state": {
       "children": [
        "IPY_MODEL_0494c69c2cef4237b1c93442a9918a1c",
        "IPY_MODEL_81eb3859204043749b7f235a90d8b2c8"
       ],
       "layout": "IPY_MODEL_a01d176efe5f4fba9a177e40d75606c5"
      }
     },
     "810c37d4f56740288ffedc17b74730a5": {
      "model_module": "@jupyter-widgets/base",
      "model_module_version": "1.1.0",
      "model_name": "LayoutModel",
      "state": {}
     },
     "81eb3859204043749b7f235a90d8b2c8": {
      "model_module": "@jupyter-widgets/controls",
      "model_module_version": "1.4.0",
      "model_name": "IntProgressModel",
      "state": {
       "layout": "IPY_MODEL_fa51037c9f3a41a7a50fe94a8ebbbeb5",
       "max": 22,
       "style": "IPY_MODEL_4e8a7daecdcb42a8be28706c522bc279",
       "value": 22
      }
     },
     "85a3bf22d16146acb4cd7c89b66f6966": {
      "model_module": "@jupyter-widgets/base",
      "model_module_version": "1.1.0",
      "model_name": "LayoutModel",
      "state": {}
     },
     "8b29569df5b04dd9a0b6a7f01be09089": {
      "model_module": "@jupyter-widgets/controls",
      "model_module_version": "1.4.0",
      "model_name": "IntProgressModel",
      "state": {
       "layout": "IPY_MODEL_2fbec55e3a4a413db4796bedd7650e5b",
       "max": 24,
       "style": "IPY_MODEL_920593f100a24962b2622a21fcb10ee6",
       "value": 24
      }
     },
     "8e7af794ab0145fb9626c16c0147aca9": {
      "model_module": "@jupyter-widgets/base",
      "model_module_version": "1.1.0",
      "model_name": "LayoutModel",
      "state": {}
     },
     "8f360a21263b4639a01f7c7d1f58cb34": {
      "model_module": "@jupyter-widgets/controls",
      "model_module_version": "1.4.0",
      "model_name": "LabelModel",
      "state": {
       "layout": "IPY_MODEL_c3ac5ed450354100a79f5dabfefd5509",
       "style": "IPY_MODEL_cbadbb83bc3a45b99512ec102bcd871a",
       "value": "24 images to rotate . . ."
      }
     },
     "920593f100a24962b2622a21fcb10ee6": {
      "model_module": "@jupyter-widgets/controls",
      "model_module_version": "1.4.0",
      "model_name": "ProgressStyleModel",
      "state": {
       "description_width": ""
      }
     },
     "93a53de306b44d0b88966b16fd32dd64": {
      "model_module": "@jupyter-widgets/base",
      "model_module_version": "1.1.0",
      "model_name": "LayoutModel",
      "state": {}
     },
     "97dfb4766d99485fa0b2fc0a73430b02": {
      "model_module": "@jupyter-widgets/controls",
      "model_module_version": "1.4.0",
      "model_name": "DescriptionStyleModel",
      "state": {
       "description_width": ""
      }
     },
     "9b8dda83d0fc4c858d585d9e73ce341e": {
      "model_module": "@jupyter-widgets/base",
      "model_module_version": "1.1.0",
      "model_name": "LayoutModel",
      "state": {}
     },
     "9dc50bf2b3b04364b444e23d3865f10a": {
      "model_module": "@jupyter-widgets/controls",
      "model_module_version": "1.4.0",
      "model_name": "LabelModel",
      "state": {
       "layout": "IPY_MODEL_8e7af794ab0145fb9626c16c0147aca9",
       "style": "IPY_MODEL_02e44ef6c17c473ba250d1abc0048c4f",
       "value": "24 images to rotate . . ."
      }
     },
     "9e8257f582d646fdb16a09f79359c64f": {
      "model_module": "@jupyter-widgets/controls",
      "model_module_version": "1.4.0",
      "model_name": "DescriptionStyleModel",
      "state": {
       "description_width": ""
      }
     },
     "a01d176efe5f4fba9a177e40d75606c5": {
      "model_module": "@jupyter-widgets/base",
      "model_module_version": "1.1.0",
      "model_name": "LayoutModel",
      "state": {}
     },
     "a20567c95892489b9eb5ca5e8b17e292": {
      "model_module": "@jupyter-widgets/base",
      "model_module_version": "1.1.0",
      "model_name": "LayoutModel",
      "state": {}
     },
     "a35cd9b560214b3a9fb7af710b3ef759": {
      "model_module": "@jupyter-widgets/base",
      "model_module_version": "1.1.0",
      "model_name": "LayoutModel",
      "state": {}
     },
     "a60bcc2e71414c1684d02d588515b225": {
      "model_module": "@jupyter-widgets/controls",
      "model_module_version": "1.4.0",
      "model_name": "LabelModel",
      "state": {
       "layout": "IPY_MODEL_aabe0ffd3fa340d8bc9eb316fc236226",
       "style": "IPY_MODEL_af766f2b3597424bb23997f6c859d6f4",
       "value": "MS2685-1-1-1_0003.tif"
      }
     },
     "a7e71294304f402da4921f2d19ed61b0": {
      "model_module": "@jupyter-widgets/controls",
      "model_module_version": "1.4.0",
      "model_name": "LabelModel",
      "state": {
       "layout": "IPY_MODEL_c3323eada5624b45b91ba85098b83cb9",
       "style": "IPY_MODEL_dbac0e3baff5471b83e75b466e0f5342",
       "value": "24 images to rotate . . ."
      }
     },
     "aabe0ffd3fa340d8bc9eb316fc236226": {
      "model_module": "@jupyter-widgets/base",
      "model_module_version": "1.1.0",
      "model_name": "LayoutModel",
      "state": {}
     },
     "ad8e19d6b3e04af781ea9305b7e1c92c": {
      "model_module": "@jupyter-widgets/base",
      "model_module_version": "1.1.0",
      "model_name": "LayoutModel",
      "state": {}
     },
     "adc34c5713da474884ba37cd8dc5f26c": {
      "model_module": "@jupyter-widgets/controls",
      "model_module_version": "1.4.0",
      "model_name": "VBoxModel",
      "state": {
       "children": [
        "IPY_MODEL_20fb8600790f4cf0b13293402e2642fd",
        "IPY_MODEL_1809b21221654ecda75e8d401d6fbcac"
       ],
       "layout": "IPY_MODEL_f742aaaee9c248eb9f35ad77f57862dc"
      }
     },
     "af0c9304c8e148ca8b471f532c8ea4d6": {
      "model_module": "@jupyter-widgets/base",
      "model_module_version": "1.1.0",
      "model_name": "LayoutModel",
      "state": {}
     },
     "af72b52666c64445aab30ecef40fbee2": {
      "model_module": "@jupyter-widgets/controls",
      "model_module_version": "1.4.0",
      "model_name": "ProgressStyleModel",
      "state": {
       "description_width": ""
      }
     },
     "af766f2b3597424bb23997f6c859d6f4": {
      "model_module": "@jupyter-widgets/controls",
      "model_module_version": "1.4.0",
      "model_name": "DescriptionStyleModel",
      "state": {
       "description_width": ""
      }
     },
     "aff4f7cee4e94f3a895ca51a279f4bf8": {
      "model_module": "@jupyter-widgets/controls",
      "model_module_version": "1.4.0",
      "model_name": "ProgressStyleModel",
      "state": {
       "description_width": ""
      }
     },
     "b0bbb792d5434e7fa8e77d6674457254": {
      "model_module": "@jupyter-widgets/controls",
      "model_module_version": "1.4.0",
      "model_name": "VBoxModel",
      "state": {
       "children": [
        "IPY_MODEL_76e952d7fe7848aaad2e59ee0c4d91cd",
        "IPY_MODEL_5ff320f2772a43c0b27d447fca1af5a0"
       ],
       "layout": "IPY_MODEL_38ea1235540b44d1859961de4f77e4bf"
      }
     },
     "b3b3d3d6870543fe833a27883eec46ac": {
      "model_module": "@jupyter-widgets/base",
      "model_module_version": "1.1.0",
      "model_name": "LayoutModel",
      "state": {}
     },
     "bc626d0f6ca14b3c8027856db5d2899d": {
      "model_module": "@jupyter-widgets/controls",
      "model_module_version": "1.4.0",
      "model_name": "VBoxModel",
      "state": {
       "children": [
        "IPY_MODEL_2291cec9a0024dd2b9b2d7f3fbeeaec7",
        "IPY_MODEL_f537d1fe9f2c47a692afa480b262a773"
       ],
       "layout": "IPY_MODEL_68a5c9bea8f745f2bbaf89636b02dc1a"
      }
     },
     "c3323eada5624b45b91ba85098b83cb9": {
      "model_module": "@jupyter-widgets/base",
      "model_module_version": "1.1.0",
      "model_name": "LayoutModel",
      "state": {}
     },
     "c3ac5ed450354100a79f5dabfefd5509": {
      "model_module": "@jupyter-widgets/base",
      "model_module_version": "1.1.0",
      "model_name": "LayoutModel",
      "state": {}
     },
     "c5f2c06afec84cb0a76ea69102d64eb4": {
      "model_module": "@jupyter-widgets/base",
      "model_module_version": "1.1.0",
      "model_name": "LayoutModel",
      "state": {}
     },
     "c6fb870b14fd4a8daefdaaba2e554a36": {
      "model_module": "@jupyter-widgets/controls",
      "model_module_version": "1.4.0",
      "model_name": "VBoxModel",
      "state": {
       "children": [
        "IPY_MODEL_9dc50bf2b3b04364b444e23d3865f10a",
        "IPY_MODEL_679d509dc961408692eefa57ebaf309c"
       ],
       "layout": "IPY_MODEL_85a3bf22d16146acb4cd7c89b66f6966"
      }
     },
     "c94b2e739f71468fac1060a8418efcc1": {
      "model_module": "@jupyter-widgets/controls",
      "model_module_version": "1.4.0",
      "model_name": "DescriptionStyleModel",
      "state": {
       "description_width": ""
      }
     },
     "cbadbb83bc3a45b99512ec102bcd871a": {
      "model_module": "@jupyter-widgets/controls",
      "model_module_version": "1.4.0",
      "model_name": "DescriptionStyleModel",
      "state": {
       "description_width": ""
      }
     },
     "cf402ef8a31c4fd4b9c300f8fa754f2f": {
      "model_module": "@jupyter-widgets/controls",
      "model_module_version": "1.4.0",
      "model_name": "ProgressStyleModel",
      "state": {
       "description_width": ""
      }
     },
     "d0353f972432483d9bbd9c33a7eef506": {
      "model_module": "@jupyter-widgets/controls",
      "model_module_version": "1.4.0",
      "model_name": "VBoxModel",
      "state": {
       "children": [
        "IPY_MODEL_f56e00609ee345deafeaa15feea64a66",
        "IPY_MODEL_463f4d1346ac405c812a2dd25c31bed7"
       ],
       "layout": "IPY_MODEL_7b09402a6e414d80b50e99dc32230566"
      }
     },
     "d37c809f27904dcab59386e677f29d22": {
      "model_module": "@jupyter-widgets/base",
      "model_module_version": "1.1.0",
      "model_name": "LayoutModel",
      "state": {}
     },
     "d79b9af7f2b34f43a790d5705bb71722": {
      "model_module": "@jupyter-widgets/base",
      "model_module_version": "1.1.0",
      "model_name": "LayoutModel",
      "state": {}
     },
     "da7e57037ffe49b3a0ea00df1fabd82b": {
      "model_module": "@jupyter-widgets/controls",
      "model_module_version": "1.4.0",
      "model_name": "VBoxModel",
      "state": {
       "children": [
        "IPY_MODEL_a7e71294304f402da4921f2d19ed61b0",
        "IPY_MODEL_69309438c9e54f5d8929f0a5945296b9"
       ],
       "layout": "IPY_MODEL_752e7be6f0b64db8a9e3d731dd3b01b6"
      }
     },
     "dae5f6f994ec42c29fa20fe984774b0b": {
      "model_module": "@jupyter-widgets/controls",
      "model_module_version": "1.4.0",
      "model_name": "ProgressStyleModel",
      "state": {
       "description_width": ""
      }
     },
     "dbac0e3baff5471b83e75b466e0f5342": {
      "model_module": "@jupyter-widgets/controls",
      "model_module_version": "1.4.0",
      "model_name": "DescriptionStyleModel",
      "state": {
       "description_width": ""
      }
     },
     "de788e92789846e4bb6744e303ae44b1": {
      "model_module": "@jupyter-widgets/base",
      "model_module_version": "1.1.0",
      "model_name": "LayoutModel",
      "state": {}
     },
     "e116e703e502495d9ec9f6eec4de0180": {
      "model_module": "@jupyter-widgets/controls",
      "model_module_version": "1.4.0",
      "model_name": "DescriptionStyleModel",
      "state": {
       "description_width": ""
      }
     },
     "e8adac8404e946dd9d652ad6dbdd4391": {
      "model_module": "@jupyter-widgets/controls",
      "model_module_version": "1.4.0",
      "model_name": "VBoxModel",
      "state": {
       "children": [
        "IPY_MODEL_4fe8ca6a13bd4459a8dd324cca165dd3",
        "IPY_MODEL_10267df2b9444061a0eda8dde8528fd9"
       ],
       "layout": "IPY_MODEL_5c9ccdfebf8445a596dc451dc817baed"
      }
     },
     "e8d169605833470e9b00432618e7ecf3": {
      "model_module": "@jupyter-widgets/base",
      "model_module_version": "1.1.0",
      "model_name": "LayoutModel",
      "state": {}
     },
     "f20686b057094480a836231b5df70360": {
      "model_module": "@jupyter-widgets/controls",
      "model_module_version": "1.4.0",
      "model_name": "ProgressStyleModel",
      "state": {
       "description_width": ""
      }
     },
     "f387b8e7c05c45c98590f0bf2577fac3": {
      "model_module": "@jupyter-widgets/controls",
      "model_module_version": "1.4.0",
      "model_name": "IntProgressModel",
      "state": {
       "layout": "IPY_MODEL_9b8dda83d0fc4c858d585d9e73ce341e",
       "max": 22,
       "style": "IPY_MODEL_cf402ef8a31c4fd4b9c300f8fa754f2f",
       "value": 2
      }
     },
     "f537d1fe9f2c47a692afa480b262a773": {
      "model_module": "@jupyter-widgets/controls",
      "model_module_version": "1.4.0",
      "model_name": "IntProgressModel",
      "state": {
       "layout": "IPY_MODEL_de788e92789846e4bb6744e303ae44b1",
       "max": 24,
       "style": "IPY_MODEL_fcc318cbe3d148e29e4adfdb35306f3a"
      }
     },
     "f567f43ccf6d4e49a6f977dbc39c87ff": {
      "model_module": "@jupyter-widgets/controls",
      "model_module_version": "1.4.0",
      "model_name": "DescriptionStyleModel",
      "state": {
       "description_width": ""
      }
     },
     "f56e00609ee345deafeaa15feea64a66": {
      "model_module": "@jupyter-widgets/controls",
      "model_module_version": "1.4.0",
      "model_name": "LabelModel",
      "state": {
       "layout": "IPY_MODEL_e8d169605833470e9b00432618e7ecf3",
       "style": "IPY_MODEL_3e2adb07d26b4a8389762a73e3ad2f59",
       "value": "MS2685-1-1-1_0005.tif"
      }
     },
     "f69f2261d5d14da7bd996b271c7c6243": {
      "model_module": "@jupyter-widgets/base",
      "model_module_version": "1.1.0",
      "model_name": "LayoutModel",
      "state": {}
     },
     "f742aaaee9c248eb9f35ad77f57862dc": {
      "model_module": "@jupyter-widgets/base",
      "model_module_version": "1.1.0",
      "model_name": "LayoutModel",
      "state": {}
     },
     "fa51037c9f3a41a7a50fe94a8ebbbeb5": {
      "model_module": "@jupyter-widgets/base",
      "model_module_version": "1.1.0",
      "model_name": "LayoutModel",
      "state": {}
     },
     "fcc318cbe3d148e29e4adfdb35306f3a": {
      "model_module": "@jupyter-widgets/controls",
      "model_module_version": "1.4.0",
      "model_name": "ProgressStyleModel",
      "state": {
       "description_width": ""
      }
     },
     "fd54e06b53fd4296b3b99da8b8dc2d4c": {
      "model_module": "@jupyter-widgets/controls",
      "model_module_version": "1.4.0",
      "model_name": "LabelModel",
      "state": {
       "layout": "IPY_MODEL_4f05b6955453419aab84632bbf2497d3",
       "style": "IPY_MODEL_6ad851cd54f04ccb810138a124c4874d",
       "value": "24 images to rotate . . ."
      }
     }
    },
    "version_major": 2,
    "version_minor": 0
   }
  }
 },
 "nbformat": 4,
 "nbformat_minor": 2
}
