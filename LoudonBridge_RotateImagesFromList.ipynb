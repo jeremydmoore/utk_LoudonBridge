{
 "cells": [
  {
   "cell_type": "markdown",
   "metadata": {},
   "source": [
    "# Loudon: Rotate Images from List\n",
    "\n",
    "Need to:\n",
    "1. some of the images need to be rotated CW/CCW to a horizontal page\n",
    "1. save as uncompressed, 8-bit TIFF in AdobeRGB (1998)"
   ]
  },
  {
   "cell_type": "code",
   "execution_count": 4,
   "metadata": {
    "code_folding": []
   },
   "outputs": [],
   "source": [
    "# importing\n",
    "from pathlib import Path\n",
    "from subprocess import call\n",
    "\n",
    "import pandas as pd\n",
    "from ipywidgets import IntProgress, Label, VBox\n",
    "from IPython.display import display\n",
    "from PIL import Image"
   ]
  },
  {
   "cell_type": "code",
   "execution_count": 5,
   "metadata": {
    "code_folding": []
   },
   "outputs": [],
   "source": [
    "def rotate_image(image_path, angle):\n",
    "    \n",
    "    # open image\n",
    "    image = Image.open(image_path)\n",
    "    \n",
    "    # rotate image\n",
    "    image = image.rotate(-angle, resample=Image.BICUBIC, expand=True)  # negative for cw\n",
    "    \n",
    "    # create output_directory\n",
    "    \n",
    "    output_directory = image_directory_path.joinpath('00_rotated')\n",
    "    output_directory.mkdir(exist_ok=True)\n",
    "    output_path = output_directory.joinpath(image_path.name)\n",
    "    \n",
    "    # save image\n",
    "    image.save(output_path, compression=None, dpi=image.info['dpi'])\n",
    "    \n",
    "    # use exiftool to copy ICC profile from original to output image\n",
    "    cmd = f' exiftool -tagsfromfile {str(image_path)} -ICC_Profile -overwrite_original -q {str(output_path)}'\n",
    "    call(cmd, shell=True)"
   ]
  },
  {
   "cell_type": "code",
   "execution_count": 6,
   "metadata": {},
   "outputs": [],
   "source": [
    "# read data from Google Sheets clipboard\n",
    "# NOTE: the first item in the copy/paste will be used as the column number\n",
    "df = pd.read_clipboard()"
   ]
  },
  {
   "cell_type": "code",
   "execution_count": 3,
   "metadata": {},
   "outputs": [],
   "source": [
    "# box 72 rotation list after AutoCroppering\n",
    "image_list_rotate_90 = "
   ]
  },
  {
   "cell_type": "code",
   "execution_count": 6,
   "metadata": {
    "code_folding": [
     0
    ]
   },
   "outputs": [
    {
     "data": {
      "application/vnd.jupyter.widget-view+json": {
       "model_id": "554f0b0311e44889be0714cd265b2f0c",
       "version_major": 2,
       "version_minor": 0
      },
      "text/plain": [
       "VBox(children=(Label(value='21 images to rotate . . .'), IntProgress(value=0, max=21)))"
      ]
     },
     "metadata": {},
     "output_type": "display_data"
    }
   ],
   "source": [
    "# batch rotate 90 cw Box 72\n",
    "\n",
    "# progress bar\n",
    "progress_label = Label(f'{len(image_list_rotate_90)} images to rotate . . .')\n",
    "progress_bar = IntProgress(min=0, max=len(image_list_rotate_90))\n",
    "progress_widget = VBox([progress_label, progress_bar])\n",
    "display(progress_widget)\n",
    "\n",
    "# batch rotate cw\n",
    "for index, (item, image) in enumerate(image_list_rotate_90, start=1):\n",
    "    \n",
    "    image_directory_path = Path('data/UTSpecialCirculars_Box72/00_cropped')\n",
    "    \n",
    "    image_name = f'0012_004268_{str(item).zfill(4)}_{str(image).zfill(4)}.tif'\n",
    "    \n",
    "    image_path = image_directory_path.joinpath(image_name)\n",
    "    \n",
    "    progress_label.value = image_path.name\n",
    "    \n",
    "    rotate_image(image_path, 90)\n",
    "    \n",
    "    progress_bar.value = index"
   ]
  },
  {
   "cell_type": "code",
   "execution_count": null,
   "metadata": {},
   "outputs": [],
   "source": []
  }
 ],
 "metadata": {
  "kernelspec": {
   "display_name": "Python 3",
   "language": "python",
   "name": "python3"
  },
  "language_info": {
   "codemirror_mode": {
    "name": "ipython",
    "version": 3
   },
   "file_extension": ".py",
   "mimetype": "text/x-python",
   "name": "python",
   "nbconvert_exporter": "python",
   "pygments_lexer": "ipython3",
   "version": "3.6.8"
  },
  "varInspector": {
   "cols": {
    "lenName": 16,
    "lenType": 16,
    "lenVar": 40
   },
   "kernels_config": {
    "python": {
     "delete_cmd_postfix": "",
     "delete_cmd_prefix": "del ",
     "library": "var_list.py",
     "varRefreshCmd": "print(var_dic_list())"
    },
    "r": {
     "delete_cmd_postfix": ") ",
     "delete_cmd_prefix": "rm(",
     "library": "var_list.r",
     "varRefreshCmd": "cat(var_dic_list()) "
    }
   },
   "types_to_exclude": [
    "module",
    "function",
    "builtin_function_or_method",
    "instance",
    "_Feature"
   ],
   "window_display": false
  }
 },
 "nbformat": 4,
 "nbformat_minor": 2
}
