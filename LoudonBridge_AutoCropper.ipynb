{
 "cells": [
  {
   "cell_type": "markdown",
   "metadata": {},
   "source": [
    "# AutoCropper for letters associated with Loudon Bridge\n",
    "\n",
    "1. Letters were shot on a Sony A7r2 with Voigtlander 65mm APO-Macro lens tethered to Capture One Pro 12 software\n",
    "1. Letters were digitized with a white background\n",
    "1. Measured resolution for files is 410ppi\n",
    "1. Images exported as 8-bit \\*.tif files in the AdobeRGB(1998) colorspace\n"
   ]
  },
  {
   "cell_type": "code",
   "execution_count": 1,
   "metadata": {
    "ExecuteTime": {
     "end_time": "2019-04-05T13:12:21.812138Z",
     "start_time": "2019-04-05T13:12:10.212661Z"
    },
    "code_folding": []
   },
   "outputs": [],
   "source": [
    "# importing\n",
    "from pathlib import Path\n",
    "from subprocess import call\n",
    "\n",
    "import cv2\n",
    "import numpy as np\n",
    "from PIL import Image\n",
    "\n",
    "import img_qc.img_qc as img_qc\n",
    "\n",
    "# == matplotlib options\n",
    "\n",
    "# magic that lets us plot directly in the notebook\n",
    "%matplotlib inline\n",
    "import matplotlib.pyplot as plt\n",
    "\n",
    "# parameters for matplotlib to increase our default figure size -- NOTE: figure sizes are in INCHES\n",
    "plt.rcParams[\"figure.figsize\"] = (20,20)  # set as needed for your screen and eyes"
   ]
  },
  {
   "cell_type": "code",
   "execution_count": 41,
   "metadata": {
    "ExecuteTime": {
     "end_time": "2019-04-05T13:12:21.853847Z",
     "start_time": "2019-04-05T13:12:21.812138Z"
    },
    "code_folding": [
     2
    ]
   },
   "outputs": [],
   "source": [
    "# functions\n",
    "\n",
    "def rotate_bound(image, angle, center=None, scale=1.0):\n",
    "    # grab the dimensions of the image and then determine the\n",
    "    # center\n",
    "    (height, width) = image.shape[:2]\n",
    "    \n",
    "    # if the center is None, initialize it as the center of\n",
    "    # the image\n",
    "    if center is None:\n",
    "        centerX = (width // 2)\n",
    "        centerY = (height // 2)\n",
    "    else:\n",
    "        centerX, centerY = center\n",
    "\n",
    "    # grab the rotation matrix (applying the negative of the\n",
    "    # angle to rotate clockwise), then grab the sine and cosine\n",
    "    # (i.e., the rotation components of the matrix)\n",
    "    M = cv2.getRotationMatrix2D((centerX, centerY), -angle, scale)\n",
    "    cos = np.abs(M[0, 0])\n",
    "    sin = np.abs(M[0, 1])\n",
    "\n",
    "    # compute the new bounding dimensions of the image\n",
    "    width_new = int((height * sin) + (width * cos))\n",
    "    height_new = int((height * cos) + (width * sin))\n",
    "\n",
    "    # adjust the rotation matrix to take into account translation\n",
    "    M[0, 2] += (width_new / 2) - centerX\n",
    "    M[1, 2] += (height_new / 2) - centerY\n",
    "\n",
    "    # perform the actual rotation and return the image\n",
    "    return cv2.warpAffine(image, M, (width_new, height_new), flags=cv2.INTER_CUBIC)\n",
    "\n",
    "def autocrop(image_path, compression=None, resize_height=500, dpi=400, padding=0, original_icc_profile=False, rotate_odd_even=False):\n",
    "    \n",
    "    # === AutoCrop\n",
    "\n",
    "    # load the image\n",
    "    image = cv2.imread(str(image_path))\n",
    "                       \n",
    "    # crop image inside blue tape, but don't use if not necessary\n",
    "    #image = image[1200:8600, 400:5000]\n",
    "    \n",
    "    # rotate image CCW for odd numbered and CW for even numbered images\n",
    "    if rotate_odd_even:\n",
    "        if (int(image_path.stem[-1]) % 2 == 0):\n",
    "            image = cv2.rotate(image, cv2.ROTATE_90_COUNTERCLOCKWISE)\n",
    "        else:\n",
    "            image = cv2.rotate(image, cv2.ROTATE_90_CLOCKWISE)\n",
    "    \n",
    "    # compute the ratio of the old height to the new height\n",
    "    ratio = image.shape[0] / float(resize_height)\n",
    "    \n",
    "    # clone image\n",
    "    image_original = image.copy()\n",
    "    \n",
    "    # resize image\n",
    "    image = img_qc.get_resized_cv_image(image, height=resize_height)\n",
    "    \n",
    "    # convert the image to grayscale\n",
    "    gray = cv2.cvtColor(image, cv2.COLOR_BGR2GRAY)\n",
    "    \n",
    "    # blur the image\n",
    "    blurred = cv2.GaussianBlur(gray, (9, 9), 0)\n",
    "    \n",
    "    # apply Otsu's automatic thresholding\n",
    "    (T, thresh) = cv2.threshold(blurred, 0, 255, \n",
    "                               cv2.THRESH_BINARY_INV | cv2.THRESH_OTSU)\n",
    "    \n",
    "    # DEBUG: show thresholded image\n",
    "    #clone = thresh.copy()\n",
    "    #plt.imshow(clone, cmap='gray')\n",
    "    \n",
    "    # find the contours in the thresholded image keeping the external one\n",
    "    contours, hierarchy = cv2.findContours(thresh.copy(), cv2.RETR_EXTERNAL, cv2.CHAIN_APPROX_SIMPLE)\n",
    "    \n",
    "    # sort the contours from left to right\n",
    "    (cnts, bounding_boxes) = img_qc.sort_contours(contours)\n",
    "    \n",
    "    # DEBUG\n",
    "    # clone = image.copy()\n",
    "    \n",
    "    # loop over the contours individually\n",
    "    for (i, c) in enumerate(cnts):\n",
    "        # if the contour is not sufficiently large, ignore it\n",
    "        if cv2.contourArea(c) < 20000:  # use 20000 for scrapbook pages\n",
    "            continue\n",
    "            \n",
    "        # compute the rotated bounding box of the contour\n",
    "        box = cv2.minAreaRect(c)\n",
    "        box = cv2.boxPoints(box)\n",
    "        box = np.int0(box)\n",
    "        \n",
    "        # DEBUG: draw found contour & show image\n",
    "        #clone = cv2.cvtColor(clone, cv2.COLOR_BGR2RGB)\n",
    "        #cv2.drawContours(clone, [box], 0, (0, 0, 255), 2)\n",
    "        #plt.imshow(clone)\n",
    "        \n",
    "        # re-order the points in tl, tr, br, bl order\n",
    "        rect = img_qc.order_points(box)\n",
    "        \n",
    "        # find the points and angle for minAreaRectangle\n",
    "        (x, y), (w, h), theta = cv2.minAreaRect(c)\n",
    "        \n",
    "        # rotate image around center of minAreaRect by theta amount\n",
    "        if theta < -45:\n",
    "            theta = 90 + theta\n",
    "        \n",
    "        # DEBUG: rotate & show image\n",
    "        #clone = image.copy()\n",
    "        #clone = cv2.cvtColor(clone, cv2.COLOR_BGR2RGB)\n",
    "        #image_rotated = img_qc.rotate(clone, theta, (x, y))\n",
    "        #plt.imshow(image_rotated)\n",
    "    \n",
    "    # multiply the rectangle by the original ratio\n",
    "    rect *= ratio\n",
    "    \n",
    "    # find the points we need to crop the full size original\n",
    "    tl, tr, br, bl = rect\n",
    "    startX = max(min(tl[0], bl[0]), 0)\n",
    "    startY = max(min(tl[1], tr[1]), 0)\n",
    "    endX = max(tr[0], br[0])\n",
    "    endY = max(bl[1], br[1])\n",
    "    \n",
    "    # rotate original by theta from minAreaRect\n",
    "    x *= ratio\n",
    "    y *= ratio\n",
    "    image_rotated = img_qc.rotate(image_original, theta, (x, y))\n",
    "    \n",
    "    # add padding (default hard-coded is 0 pixels)\n",
    "    pixel_padding = int(padding)\n",
    "    startX -= pixel_padding\n",
    "    startY -= pixel_padding\n",
    "    endX += pixel_padding\n",
    "    endY += pixel_padding\n",
    "    \n",
    "    # startX/startY to max of current value and 0 to stay inside image\n",
    "    startX = max(startX, 0)\n",
    "    startY = max(startY, 0)\n",
    "    \n",
    "    # endX/endY to min of current value and max width/height of image to stay inside image\n",
    "    endX = min(endX, image_rotated.shape[1])\n",
    "    endY = min(endY, image_rotated.shape[0])\n",
    "    \n",
    "    # crop the image in memory\n",
    "    image_cropped = image_rotated[int(startY):int(endY), int(startX):int(endX)]\n",
    "    \n",
    "    # create output directory and set output path\n",
    "    output_directory_path = image_path.parents[0].joinpath('00_cropped')\n",
    "    output_directory_path.mkdir(exist_ok=True)\n",
    "    output_path = output_directory_path.joinpath(image_path.name)\n",
    "    \n",
    "    # convert to pillow Image\n",
    "    image_cropped = cv2.cvtColor(image_cropped, cv2.COLOR_BGR2RGB)  # convert to RGB!\n",
    "    pillow_image = Image.fromarray(image_cropped)\n",
    "    \n",
    "    dpi = float(dpi)  # dpi MUST be a float for Pillow\n",
    "        \n",
    "    pillow_image.save(output_path, compression=compression, dpi=(dpi, dpi))\n",
    "    \n",
    "    if original_icc_profile:\n",
    "        # use exiftool to copy ICC profile form original to output image\n",
    "        cmd = f' exiftool -tagsfromfile {str(image_path)} -ICC_Profile -overwrite_original -q {str(output_path)}'\n",
    "        call(cmd, shell=True)"
   ]
  },
  {
   "cell_type": "code",
   "execution_count": 3,
   "metadata": {
    "ExecuteTime": {
     "end_time": "2019-04-05T13:12:21.865840Z",
     "start_time": "2019-04-05T13:12:21.856844Z"
    }
   },
   "outputs": [
    {
     "name": "stdout",
     "output_type": "stream",
     "text": [
      "Wall time: 1 ms\n"
     ]
    }
   ],
   "source": [
    "%%time\n",
    "autocrop_directory_path = Path('data/ex1/')\n",
    "autocrop_directory_path"
   ]
  },
  {
   "cell_type": "code",
   "execution_count": 4,
   "metadata": {
    "ExecuteTime": {
     "end_time": "2019-04-05T13:12:21.887825Z",
     "start_time": "2019-04-05T13:12:21.869838Z"
    }
   },
   "outputs": [
    {
     "data": {
      "text/plain": [
       "WindowsPath('C:/Users/dlisla/Documents/GitHub/utk_LoudonBridge/data/ex1')"
      ]
     },
     "execution_count": 4,
     "metadata": {},
     "output_type": "execute_result"
    }
   ],
   "source": [
    "autocrop_directory_path.resolve()"
   ]
  },
  {
   "cell_type": "code",
   "execution_count": 5,
   "metadata": {
    "ExecuteTime": {
     "end_time": "2019-04-05T13:12:21.907835Z",
     "start_time": "2019-04-05T13:12:21.889824Z"
    }
   },
   "outputs": [
    {
     "data": {
      "text/plain": [
       "[WindowsPath('data/ex1/MS2685-1-1-1_0001.tif'),\n",
       " WindowsPath('data/ex1/MS2685-1-1-1_0002.tif'),\n",
       " WindowsPath('data/ex1/MS2685-1-1-1_0003.tif'),\n",
       " WindowsPath('data/ex1/MS2685-1-1-1_0004.tif'),\n",
       " WindowsPath('data/ex1/MS2685-1-1-1_0005.tif'),\n",
       " WindowsPath('data/ex1/MS2685-1-1-1_0006.tif'),\n",
       " WindowsPath('data/ex1/MS2685-1-1-1_0007.tif'),\n",
       " WindowsPath('data/ex1/MS2685-1-1-1_0008.tif'),\n",
       " WindowsPath('data/ex1/MS2685-1-1-1_0009.tif'),\n",
       " WindowsPath('data/ex1/MS2685-1-1-1_0010.tif'),\n",
       " WindowsPath('data/ex1/MS2685-1-1-1_0011.tif'),\n",
       " WindowsPath('data/ex1/MS2685-1-1-1_0012.tif'),\n",
       " WindowsPath('data/ex1/MS2685-1-1-1_0013.tif'),\n",
       " WindowsPath('data/ex1/MS2685-1-1-1_0014.tif'),\n",
       " WindowsPath('data/ex1/MS2685-1-1-1_0015.tif'),\n",
       " WindowsPath('data/ex1/MS2685-1-1-1_0016.tif'),\n",
       " WindowsPath('data/ex1/MS2685-1-1-1_0017.tif'),\n",
       " WindowsPath('data/ex1/MS2685-1-1-1_0018.tif'),\n",
       " WindowsPath('data/ex1/MS2685-1-1-1_0019.tif'),\n",
       " WindowsPath('data/ex1/MS2685-1-1-1_0020.tif'),\n",
       " WindowsPath('data/ex1/MS2685-1-1-1_0021.tif'),\n",
       " WindowsPath('data/ex1/MS2685-1-1-1_0022.tif'),\n",
       " WindowsPath('data/ex1/MS2685-1-1-1_0023.tif'),\n",
       " WindowsPath('data/ex1/MS2685-1-1-1_0024.tif'),\n",
       " WindowsPath('data/ex1/MS2685-1-1-1_0025.tif'),\n",
       " WindowsPath('data/ex1/MS2685-1-1-1_0026.tif'),\n",
       " WindowsPath('data/ex1/MS2685-1-1-1_0027.tif'),\n",
       " WindowsPath('data/ex1/MS2685-1-1-1_0028.tif'),\n",
       " WindowsPath('data/ex1/MS2685-1-1-1_0029.tif'),\n",
       " WindowsPath('data/ex1/MS2685-1-1-1_0030.tif'),\n",
       " WindowsPath('data/ex1/MS2685-1-1-1_0031.tif'),\n",
       " WindowsPath('data/ex1/MS2685-1-1-1_0032.tif'),\n",
       " WindowsPath('data/ex1/MS2685-1-1-1_0035.tif'),\n",
       " WindowsPath('data/ex1/MS2685-1-1-1_0036.tif'),\n",
       " WindowsPath('data/ex1/MS2685-1-1-1_0037.tif'),\n",
       " WindowsPath('data/ex1/MS2685-1-1-1_0038.tif'),\n",
       " WindowsPath('data/ex1/MS2685-1-1-1_0039.tif'),\n",
       " WindowsPath('data/ex1/MS2685-1-1-1_0040.tif'),\n",
       " WindowsPath('data/ex1/MS2685-1-1-1_0041.tif'),\n",
       " WindowsPath('data/ex1/MS2685-1-1-1_0042.tif'),\n",
       " WindowsPath('data/ex1/MS2685-1-1-1_0043.tif'),\n",
       " WindowsPath('data/ex1/MS2685-1-1-1_0044.tif'),\n",
       " WindowsPath('data/ex1/MS2685-1-1-1_0045.tif'),\n",
       " WindowsPath('data/ex1/MS2685-1-1-1_0046.tif'),\n",
       " WindowsPath('data/ex1/MS2685-1-1-1_0047.tif'),\n",
       " WindowsPath('data/ex1/MS2685-1-1-1_0048.tif'),\n",
       " WindowsPath('data/ex1/MS2685-1-1-1_0049.tif'),\n",
       " WindowsPath('data/ex1/MS2685-1-1-1_0050.tif'),\n",
       " WindowsPath('data/ex1/MS2685-1-1-1_0051.tif'),\n",
       " WindowsPath('data/ex1/MS2685-1-1-1_0052.tif'),\n",
       " WindowsPath('data/ex1/MS2685-1-1-1_0053.tif'),\n",
       " WindowsPath('data/ex1/MS2685-1-1-1_0054.tif'),\n",
       " WindowsPath('data/ex1/MS2685-1-1-1_0055.tif'),\n",
       " WindowsPath('data/ex1/MS2685-1-1-1_0056.tif'),\n",
       " WindowsPath('data/ex1/MS2685-1-1-1_0057.tif'),\n",
       " WindowsPath('data/ex1/MS2685-1-1-1_0058.tif'),\n",
       " WindowsPath('data/ex1/MS2685-1-1-1_0059.tif'),\n",
       " WindowsPath('data/ex1/MS2685-1-1-1_0060.tif'),\n",
       " WindowsPath('data/ex1/MS2685-1-1-1_0061.tif'),\n",
       " WindowsPath('data/ex1/MS2685-1-1-1_0062.tif'),\n",
       " WindowsPath('data/ex1/MS2685-1-1-1_0063.tif'),\n",
       " WindowsPath('data/ex1/MS2685-1-1-1_0064.tif'),\n",
       " WindowsPath('data/ex1/MS2685-1-1-1_0065.tif'),\n",
       " WindowsPath('data/ex1/MS2685-1-1-1_0066.tif'),\n",
       " WindowsPath('data/ex1/MS2685-1-1-1_0067.tif'),\n",
       " WindowsPath('data/ex1/MS2685-1-1-1_0068.tif'),\n",
       " WindowsPath('data/ex1/MS2685-1-1-1_0069.tif'),\n",
       " WindowsPath('data/ex1/MS2685-1-1-1_0070.tif'),\n",
       " WindowsPath('data/ex1/MS2685-1-2-2_0001.tif'),\n",
       " WindowsPath('data/ex1/MS2685-1-2-2_0002.tif'),\n",
       " WindowsPath('data/ex1/MS2685-1-2-2_0003c.tif'),\n",
       " WindowsPath('data/ex1/MS2685-1-2-2_0004.tif'),\n",
       " WindowsPath('data/ex1/MS2685-1-2-2_0005.tif'),\n",
       " WindowsPath('data/ex1/MS2685-1-2-2_0006.tif'),\n",
       " WindowsPath('data/ex1/MS2685-1-2-2_0007a.tif'),\n",
       " WindowsPath('data/ex1/MS2685-1-2-2_0007b.tif'),\n",
       " WindowsPath('data/ex1/MS2685-1-2-2_0008.tif'),\n",
       " WindowsPath('data/ex1/MS2685-1-2-2_0009.tif'),\n",
       " WindowsPath('data/ex1/MS2685-1-2-2_0010.tif'),\n",
       " WindowsPath('data/ex1/MS2685-1-2-2_0011.tif'),\n",
       " WindowsPath('data/ex1/MS2685-1-2-2_0012.tif'),\n",
       " WindowsPath('data/ex1/MS2685-1-2-2_0013.tif'),\n",
       " WindowsPath('data/ex1/MS2685-1-2-2_0014.tif'),\n",
       " WindowsPath('data/ex1/MS2685-1-2-2_0015.tif'),\n",
       " WindowsPath('data/ex1/MS2685-1-2-2_0016.tif'),\n",
       " WindowsPath('data/ex1/MS2685-1-2-2_0017.tif'),\n",
       " WindowsPath('data/ex1/MS2685-1-2-2_0018.tif'),\n",
       " WindowsPath('data/ex1/MS2685-1-3-3_0001.tif'),\n",
       " WindowsPath('data/ex1/MS2685-1-3-3_0002.tif'),\n",
       " WindowsPath('data/ex1/MS2685-1-3-3_0003.tif'),\n",
       " WindowsPath('data/ex1/MS2685-1-3-3_0004.tif'),\n",
       " WindowsPath('data/ex1/MS2686-1-1-2_0001.tif'),\n",
       " WindowsPath('data/ex1/MS2686-1-1-2_0002.tif'),\n",
       " WindowsPath('data/ex1/MS2686-1-1-2_0003.tif'),\n",
       " WindowsPath('data/ex1/MS2686-1-1-2_0004.tif'),\n",
       " WindowsPath('data/ex1/MS2686-1-1-2_0005.tif'),\n",
       " WindowsPath('data/ex1/MS2686-1-1-2_0006.tif'),\n",
       " WindowsPath('data/ex1/MS2686-1-1-2_0007.tif'),\n",
       " WindowsPath('data/ex1/MS2686-1-1-2_0008.tif'),\n",
       " WindowsPath('data/ex1/MS2686-1-1-2_0009.tif'),\n",
       " WindowsPath('data/ex1/MS2686-1-1-2_0010.tif'),\n",
       " WindowsPath('data/ex1/MS2686-1-1-2_0011.tif'),\n",
       " WindowsPath('data/ex1/MS2686-1-1-2_0012.tif'),\n",
       " WindowsPath('data/ex1/MS2686-1-1-2_0013.tif'),\n",
       " WindowsPath('data/ex1/MS2686-1-1-2_0014.tif'),\n",
       " WindowsPath('data/ex1/MS2686-1-1-2_0015.tif'),\n",
       " WindowsPath('data/ex1/MS2686-1-1-2_0016.tif'),\n",
       " WindowsPath('data/ex1/MS2686-1-1-2_0017.tif'),\n",
       " WindowsPath('data/ex1/MS2686-1-1-2_0018.tif'),\n",
       " WindowsPath('data/ex1/MS2686-1-1-2_0019.tif'),\n",
       " WindowsPath('data/ex1/MS2686-1-1-2_0020.tif'),\n",
       " WindowsPath('data/ex1/MS2686-1-1-2_0021.tif'),\n",
       " WindowsPath('data/ex1/MS2686-1-1-2_0022.tif'),\n",
       " WindowsPath('data/ex1/MS2686-1-1-2_0023.tif'),\n",
       " WindowsPath('data/ex1/MS2686-1-1-2_0024.tif'),\n",
       " WindowsPath('data/ex1/MS2686-1-1-2_0025.tif'),\n",
       " WindowsPath('data/ex1/MS2686-1-1-2_0026.tif'),\n",
       " WindowsPath('data/ex1/MS2686-1-1-3_0001.tif'),\n",
       " WindowsPath('data/ex1/MS2686-1-1-3_0002.tif'),\n",
       " WindowsPath('data/ex1/MS2686-1-1-3_0003.tif'),\n",
       " WindowsPath('data/ex1/MS2686-1-1-3_0004.tif'),\n",
       " WindowsPath('data/ex1/MS2686-1-1-3_0005.tif'),\n",
       " WindowsPath('data/ex1/MS2686-1-1-3_0006.tif'),\n",
       " WindowsPath('data/ex1/MS2686-1-1-3_0007.tif'),\n",
       " WindowsPath('data/ex1/MS2686-1-1-3_0008.tif')]"
      ]
     },
     "execution_count": 5,
     "metadata": {},
     "output_type": "execute_result"
    }
   ],
   "source": [
    "image_paths_list = sorted(autocrop_directory_path.glob('*.tif'))\n",
    "image_paths_list"
   ]
  },
  {
   "cell_type": "code",
   "execution_count": 6,
   "metadata": {
    "ExecuteTime": {
     "end_time": "2019-04-05T13:12:21.913812Z",
     "start_time": "2019-04-05T13:12:21.908813Z"
    }
   },
   "outputs": [
    {
     "data": {
      "text/plain": [
       "[WindowsPath('data/ex1/MS2685-1-1-1_0001.tif'),\n",
       " WindowsPath('data/ex1/MS2685-1-1-1_0002.tif'),\n",
       " WindowsPath('data/ex1/MS2685-1-1-1_0003.tif'),\n",
       " WindowsPath('data/ex1/MS2685-1-1-1_0004.tif'),\n",
       " WindowsPath('data/ex1/MS2685-1-1-1_0005.tif'),\n",
       " WindowsPath('data/ex1/MS2685-1-1-1_0006.tif'),\n",
       " WindowsPath('data/ex1/MS2685-1-1-1_0007.tif'),\n",
       " WindowsPath('data/ex1/MS2685-1-1-1_0008.tif'),\n",
       " WindowsPath('data/ex1/MS2685-1-1-1_0009.tif'),\n",
       " WindowsPath('data/ex1/MS2685-1-1-1_0010.tif'),\n",
       " WindowsPath('data/ex1/MS2685-1-1-1_0011.tif'),\n",
       " WindowsPath('data/ex1/MS2685-1-1-1_0012.tif'),\n",
       " WindowsPath('data/ex1/MS2685-1-1-1_0013.tif'),\n",
       " WindowsPath('data/ex1/MS2685-1-1-1_0014.tif'),\n",
       " WindowsPath('data/ex1/MS2685-1-1-1_0015.tif'),\n",
       " WindowsPath('data/ex1/MS2685-1-1-1_0016.tif'),\n",
       " WindowsPath('data/ex1/MS2685-1-1-1_0017.tif'),\n",
       " WindowsPath('data/ex1/MS2685-1-1-1_0018.tif'),\n",
       " WindowsPath('data/ex1/MS2685-1-1-1_0019.tif'),\n",
       " WindowsPath('data/ex1/MS2685-1-1-1_0020.tif'),\n",
       " WindowsPath('data/ex1/MS2685-1-1-1_0021.tif'),\n",
       " WindowsPath('data/ex1/MS2685-1-1-1_0022.tif'),\n",
       " WindowsPath('data/ex1/MS2685-1-1-1_0023.tif'),\n",
       " WindowsPath('data/ex1/MS2685-1-1-1_0024.tif'),\n",
       " WindowsPath('data/ex1/MS2685-1-1-1_0025.tif'),\n",
       " WindowsPath('data/ex1/MS2685-1-1-1_0026.tif'),\n",
       " WindowsPath('data/ex1/MS2685-1-1-1_0027.tif'),\n",
       " WindowsPath('data/ex1/MS2685-1-1-1_0028.tif'),\n",
       " WindowsPath('data/ex1/MS2685-1-1-1_0029.tif'),\n",
       " WindowsPath('data/ex1/MS2685-1-1-1_0030.tif'),\n",
       " WindowsPath('data/ex1/MS2685-1-1-1_0031.tif'),\n",
       " WindowsPath('data/ex1/MS2685-1-1-1_0032.tif'),\n",
       " WindowsPath('data/ex1/MS2685-1-1-1_0035.tif'),\n",
       " WindowsPath('data/ex1/MS2685-1-1-1_0036.tif'),\n",
       " WindowsPath('data/ex1/MS2685-1-1-1_0037.tif'),\n",
       " WindowsPath('data/ex1/MS2685-1-1-1_0038.tif'),\n",
       " WindowsPath('data/ex1/MS2685-1-1-1_0039.tif'),\n",
       " WindowsPath('data/ex1/MS2685-1-1-1_0040.tif'),\n",
       " WindowsPath('data/ex1/MS2685-1-1-1_0041.tif'),\n",
       " WindowsPath('data/ex1/MS2685-1-1-1_0042.tif'),\n",
       " WindowsPath('data/ex1/MS2685-1-1-1_0043.tif'),\n",
       " WindowsPath('data/ex1/MS2685-1-1-1_0044.tif'),\n",
       " WindowsPath('data/ex1/MS2685-1-1-1_0045.tif'),\n",
       " WindowsPath('data/ex1/MS2685-1-1-1_0046.tif'),\n",
       " WindowsPath('data/ex1/MS2685-1-1-1_0047.tif'),\n",
       " WindowsPath('data/ex1/MS2685-1-1-1_0048.tif'),\n",
       " WindowsPath('data/ex1/MS2685-1-1-1_0049.tif'),\n",
       " WindowsPath('data/ex1/MS2685-1-1-1_0050.tif'),\n",
       " WindowsPath('data/ex1/MS2685-1-1-1_0051.tif'),\n",
       " WindowsPath('data/ex1/MS2685-1-1-1_0052.tif'),\n",
       " WindowsPath('data/ex1/MS2685-1-1-1_0053.tif'),\n",
       " WindowsPath('data/ex1/MS2685-1-1-1_0054.tif'),\n",
       " WindowsPath('data/ex1/MS2685-1-1-1_0055.tif'),\n",
       " WindowsPath('data/ex1/MS2685-1-1-1_0056.tif'),\n",
       " WindowsPath('data/ex1/MS2685-1-1-1_0057.tif'),\n",
       " WindowsPath('data/ex1/MS2685-1-1-1_0058.tif'),\n",
       " WindowsPath('data/ex1/MS2685-1-1-1_0059.tif'),\n",
       " WindowsPath('data/ex1/MS2685-1-1-1_0060.tif'),\n",
       " WindowsPath('data/ex1/MS2685-1-1-1_0061.tif'),\n",
       " WindowsPath('data/ex1/MS2685-1-1-1_0062.tif'),\n",
       " WindowsPath('data/ex1/MS2685-1-1-1_0063.tif'),\n",
       " WindowsPath('data/ex1/MS2685-1-1-1_0064.tif'),\n",
       " WindowsPath('data/ex1/MS2685-1-1-1_0065.tif'),\n",
       " WindowsPath('data/ex1/MS2685-1-1-1_0066.tif'),\n",
       " WindowsPath('data/ex1/MS2685-1-1-1_0067.tif'),\n",
       " WindowsPath('data/ex1/MS2685-1-1-1_0068.tif'),\n",
       " WindowsPath('data/ex1/MS2685-1-1-1_0069.tif'),\n",
       " WindowsPath('data/ex1/MS2685-1-1-1_0070.tif'),\n",
       " WindowsPath('data/ex1/MS2685-1-2-2_0001.tif'),\n",
       " WindowsPath('data/ex1/MS2685-1-2-2_0002.tif'),\n",
       " WindowsPath('data/ex1/MS2685-1-2-2_0003c.tif'),\n",
       " WindowsPath('data/ex1/MS2685-1-2-2_0004.tif'),\n",
       " WindowsPath('data/ex1/MS2685-1-2-2_0005.tif'),\n",
       " WindowsPath('data/ex1/MS2685-1-2-2_0006.tif'),\n",
       " WindowsPath('data/ex1/MS2685-1-2-2_0007a.tif'),\n",
       " WindowsPath('data/ex1/MS2685-1-2-2_0007b.tif'),\n",
       " WindowsPath('data/ex1/MS2685-1-2-2_0008.tif'),\n",
       " WindowsPath('data/ex1/MS2685-1-2-2_0009.tif'),\n",
       " WindowsPath('data/ex1/MS2685-1-2-2_0010.tif'),\n",
       " WindowsPath('data/ex1/MS2685-1-2-2_0011.tif'),\n",
       " WindowsPath('data/ex1/MS2685-1-2-2_0012.tif'),\n",
       " WindowsPath('data/ex1/MS2685-1-2-2_0013.tif'),\n",
       " WindowsPath('data/ex1/MS2685-1-2-2_0014.tif'),\n",
       " WindowsPath('data/ex1/MS2685-1-2-2_0015.tif'),\n",
       " WindowsPath('data/ex1/MS2685-1-2-2_0016.tif'),\n",
       " WindowsPath('data/ex1/MS2685-1-2-2_0017.tif'),\n",
       " WindowsPath('data/ex1/MS2685-1-2-2_0018.tif'),\n",
       " WindowsPath('data/ex1/MS2685-1-3-3_0001.tif'),\n",
       " WindowsPath('data/ex1/MS2685-1-3-3_0002.tif'),\n",
       " WindowsPath('data/ex1/MS2685-1-3-3_0003.tif'),\n",
       " WindowsPath('data/ex1/MS2685-1-3-3_0004.tif'),\n",
       " WindowsPath('data/ex1/MS2686-1-1-2_0001.tif'),\n",
       " WindowsPath('data/ex1/MS2686-1-1-2_0002.tif'),\n",
       " WindowsPath('data/ex1/MS2686-1-1-2_0003.tif'),\n",
       " WindowsPath('data/ex1/MS2686-1-1-2_0004.tif'),\n",
       " WindowsPath('data/ex1/MS2686-1-1-2_0005.tif'),\n",
       " WindowsPath('data/ex1/MS2686-1-1-2_0006.tif'),\n",
       " WindowsPath('data/ex1/MS2686-1-1-2_0007.tif'),\n",
       " WindowsPath('data/ex1/MS2686-1-1-2_0008.tif'),\n",
       " WindowsPath('data/ex1/MS2686-1-1-2_0009.tif'),\n",
       " WindowsPath('data/ex1/MS2686-1-1-2_0010.tif'),\n",
       " WindowsPath('data/ex1/MS2686-1-1-2_0011.tif'),\n",
       " WindowsPath('data/ex1/MS2686-1-1-2_0012.tif'),\n",
       " WindowsPath('data/ex1/MS2686-1-1-2_0013.tif'),\n",
       " WindowsPath('data/ex1/MS2686-1-1-2_0014.tif'),\n",
       " WindowsPath('data/ex1/MS2686-1-1-2_0015.tif'),\n",
       " WindowsPath('data/ex1/MS2686-1-1-2_0016.tif'),\n",
       " WindowsPath('data/ex1/MS2686-1-1-2_0017.tif'),\n",
       " WindowsPath('data/ex1/MS2686-1-1-2_0018.tif'),\n",
       " WindowsPath('data/ex1/MS2686-1-1-2_0019.tif'),\n",
       " WindowsPath('data/ex1/MS2686-1-1-2_0020.tif'),\n",
       " WindowsPath('data/ex1/MS2686-1-1-2_0021.tif'),\n",
       " WindowsPath('data/ex1/MS2686-1-1-2_0022.tif'),\n",
       " WindowsPath('data/ex1/MS2686-1-1-2_0023.tif'),\n",
       " WindowsPath('data/ex1/MS2686-1-1-2_0024.tif'),\n",
       " WindowsPath('data/ex1/MS2686-1-1-2_0025.tif'),\n",
       " WindowsPath('data/ex1/MS2686-1-1-2_0026.tif'),\n",
       " WindowsPath('data/ex1/MS2686-1-1-3_0001.tif'),\n",
       " WindowsPath('data/ex1/MS2686-1-1-3_0002.tif'),\n",
       " WindowsPath('data/ex1/MS2686-1-1-3_0003.tif'),\n",
       " WindowsPath('data/ex1/MS2686-1-1-3_0004.tif'),\n",
       " WindowsPath('data/ex1/MS2686-1-1-3_0005.tif'),\n",
       " WindowsPath('data/ex1/MS2686-1-1-3_0006.tif'),\n",
       " WindowsPath('data/ex1/MS2686-1-1-3_0007.tif'),\n",
       " WindowsPath('data/ex1/MS2686-1-1-3_0008.tif')]"
      ]
     },
     "execution_count": 6,
     "metadata": {},
     "output_type": "execute_result"
    }
   ],
   "source": [
    "image_paths_list"
   ]
  },
  {
   "cell_type": "code",
   "execution_count": 7,
   "metadata": {
    "ExecuteTime": {
     "end_time": "2019-04-05T13:12:21.923825Z",
     "start_time": "2019-04-05T13:12:21.914811Z"
    },
    "scrolled": false
   },
   "outputs": [],
   "source": [
    "# autocrop(image_paths_list[2], dpi=410, padding=0, original_icc_profile=True)"
   ]
  },
  {
   "cell_type": "code",
   "execution_count": 42,
   "metadata": {
    "ExecuteTime": {
     "end_time": "2019-04-05T13:13:03.633002Z",
     "start_time": "2019-04-05T13:12:21.924803Z"
    },
    "scrolled": true
   },
   "outputs": [
    {
     "name": "stdout",
     "output_type": "stream",
     "text": [
      "starting to process MS2685-1-1-1_0001.tif\n",
      "MS2685-1-1-1_0001.tif was cropped\n",
      "starting to process MS2685-1-1-1_0002.tif\n",
      "MS2685-1-1-1_0002.tif was cropped\n",
      "starting to process MS2685-1-1-1_0003.tif\n",
      "MS2685-1-1-1_0003.tif was cropped\n",
      "starting to process MS2685-1-1-1_0004.tif\n",
      "MS2685-1-1-1_0004.tif was cropped\n",
      "starting to process MS2685-1-1-1_0005.tif\n",
      "MS2685-1-1-1_0005.tif was cropped\n",
      "starting to process MS2685-1-1-1_0006.tif\n",
      "MS2685-1-1-1_0006.tif was cropped\n",
      "starting to process MS2685-1-1-1_0007.tif\n",
      "MS2685-1-1-1_0007.tif was cropped\n",
      "starting to process MS2685-1-1-1_0008.tif\n",
      "MS2685-1-1-1_0008.tif was cropped\n",
      "starting to process MS2685-1-1-1_0009.tif\n",
      "MS2685-1-1-1_0009.tif was cropped\n",
      "starting to process MS2685-1-1-1_0010.tif\n",
      "MS2685-1-1-1_0010.tif was cropped\n",
      "starting to process MS2685-1-1-1_0011.tif\n",
      "MS2685-1-1-1_0011.tif was cropped\n",
      "starting to process MS2685-1-1-1_0012.tif\n",
      "MS2685-1-1-1_0012.tif was cropped\n",
      "starting to process MS2685-1-1-1_0013.tif\n",
      "MS2685-1-1-1_0013.tif was cropped\n",
      "starting to process MS2685-1-1-1_0014.tif\n",
      "MS2685-1-1-1_0014.tif was cropped\n",
      "starting to process MS2685-1-1-1_0015.tif\n",
      "MS2685-1-1-1_0015.tif was cropped\n",
      "starting to process MS2685-1-1-1_0016.tif\n",
      "MS2685-1-1-1_0016.tif was cropped\n",
      "starting to process MS2685-1-1-1_0017.tif\n",
      "MS2685-1-1-1_0017.tif was cropped\n",
      "starting to process MS2685-1-1-1_0018.tif\n",
      "MS2685-1-1-1_0018.tif was cropped\n",
      "starting to process MS2685-1-1-1_0019.tif\n",
      "MS2685-1-1-1_0019.tif was cropped\n",
      "starting to process MS2685-1-1-1_0020.tif\n",
      "MS2685-1-1-1_0020.tif was cropped\n",
      "starting to process MS2685-1-1-1_0021.tif\n",
      "MS2685-1-1-1_0021.tif was cropped\n",
      "starting to process MS2685-1-1-1_0022.tif\n",
      "MS2685-1-1-1_0022.tif was cropped\n",
      "starting to process MS2685-1-1-1_0023.tif\n",
      "MS2685-1-1-1_0023.tif was cropped\n",
      "starting to process MS2685-1-1-1_0024.tif\n",
      "MS2685-1-1-1_0024.tif was cropped\n",
      "starting to process MS2685-1-1-1_0025.tif\n",
      "MS2685-1-1-1_0025.tif was cropped\n",
      "starting to process MS2685-1-1-1_0026.tif\n",
      "MS2685-1-1-1_0026.tif was cropped\n",
      "starting to process MS2685-1-1-1_0027.tif\n",
      "MS2685-1-1-1_0027.tif was cropped\n",
      "starting to process MS2685-1-1-1_0028.tif\n",
      "MS2685-1-1-1_0028.tif was cropped\n",
      "starting to process MS2685-1-1-1_0029.tif\n",
      "MS2685-1-1-1_0029.tif was cropped\n",
      "starting to process MS2685-1-1-1_0030.tif\n",
      "MS2685-1-1-1_0030.tif was cropped\n",
      "starting to process MS2685-1-1-1_0031.tif\n",
      "MS2685-1-1-1_0031.tif was cropped\n",
      "starting to process MS2685-1-1-1_0032.tif\n",
      "MS2685-1-1-1_0032.tif was cropped\n",
      "starting to process MS2685-1-1-1_0035.tif\n",
      "MS2685-1-1-1_0035.tif was cropped\n",
      "starting to process MS2685-1-1-1_0036.tif\n",
      "MS2685-1-1-1_0036.tif was cropped\n",
      "starting to process MS2685-1-1-1_0037.tif\n",
      "MS2685-1-1-1_0037.tif was cropped\n",
      "starting to process MS2685-1-1-1_0038.tif\n",
      "MS2685-1-1-1_0038.tif was cropped\n",
      "starting to process MS2685-1-1-1_0039.tif\n",
      "MS2685-1-1-1_0039.tif was cropped\n",
      "starting to process MS2685-1-1-1_0040.tif\n",
      "MS2685-1-1-1_0040.tif was cropped\n",
      "starting to process MS2685-1-1-1_0041.tif\n",
      "MS2685-1-1-1_0041.tif was cropped\n",
      "starting to process MS2685-1-1-1_0042.tif\n",
      "MS2685-1-1-1_0042.tif was cropped\n",
      "starting to process MS2685-1-1-1_0043.tif\n"
     ]
    },
    {
     "ename": "UnboundLocalError",
     "evalue": "local variable 'rect' referenced before assignment",
     "output_type": "error",
     "traceback": [
      "\u001b[1;31m---------------------------------------------------------------------------\u001b[0m",
      "\u001b[1;31mUnboundLocalError\u001b[0m                         Traceback (most recent call last)",
      "\u001b[1;32m<ipython-input-42-1a9d09247ab9>\u001b[0m in \u001b[0;36m<module>\u001b[1;34m\u001b[0m\n\u001b[0;32m      3\u001b[0m \u001b[1;32mfor\u001b[0m \u001b[0mimage_path\u001b[0m \u001b[1;32min\u001b[0m \u001b[0mimage_paths_list\u001b[0m\u001b[1;33m:\u001b[0m\u001b[1;33m\u001b[0m\u001b[1;33m\u001b[0m\u001b[0m\n\u001b[0;32m      4\u001b[0m     \u001b[0mprint\u001b[0m\u001b[1;33m(\u001b[0m\u001b[1;34mf'starting to process {image_path.name}'\u001b[0m\u001b[1;33m)\u001b[0m\u001b[1;33m\u001b[0m\u001b[1;33m\u001b[0m\u001b[0m\n\u001b[1;32m----> 5\u001b[1;33m     \u001b[0mautocrop\u001b[0m\u001b[1;33m(\u001b[0m\u001b[0mimage_path\u001b[0m\u001b[1;33m,\u001b[0m \u001b[0mdpi\u001b[0m\u001b[1;33m=\u001b[0m\u001b[1;36m410\u001b[0m\u001b[1;33m,\u001b[0m \u001b[0mresize_height\u001b[0m\u001b[1;33m=\u001b[0m\u001b[1;36m500\u001b[0m\u001b[1;33m,\u001b[0m \u001b[0mpadding\u001b[0m\u001b[1;33m=\u001b[0m\u001b[1;36m50\u001b[0m\u001b[1;33m,\u001b[0m \u001b[0moriginal_icc_profile\u001b[0m\u001b[1;33m=\u001b[0m\u001b[1;32mTrue\u001b[0m\u001b[1;33m)\u001b[0m\u001b[1;33m\u001b[0m\u001b[1;33m\u001b[0m\u001b[0m\n\u001b[0m\u001b[0;32m      6\u001b[0m     \u001b[0mcropped_image_path\u001b[0m \u001b[1;33m=\u001b[0m \u001b[0mautocrop_directory_path\u001b[0m\u001b[1;33m.\u001b[0m\u001b[0mjoinpath\u001b[0m\u001b[1;33m(\u001b[0m\u001b[1;34m'00_cropped'\u001b[0m\u001b[1;33m,\u001b[0m \u001b[0mimage_path\u001b[0m\u001b[1;33m.\u001b[0m\u001b[0mname\u001b[0m\u001b[1;33m)\u001b[0m\u001b[1;33m\u001b[0m\u001b[1;33m\u001b[0m\u001b[0m\n\u001b[0;32m      7\u001b[0m     \u001b[1;32mif\u001b[0m \u001b[0mcropped_image_path\u001b[0m\u001b[1;33m.\u001b[0m\u001b[0mis_file\u001b[0m\u001b[1;33m(\u001b[0m\u001b[1;33m)\u001b[0m\u001b[1;33m:\u001b[0m\u001b[1;33m\u001b[0m\u001b[1;33m\u001b[0m\u001b[0m\n",
      "\u001b[1;32m<ipython-input-41-20cf9ce558c4>\u001b[0m in \u001b[0;36mautocrop\u001b[1;34m(image_path, compression, resize_height, dpi, padding, original_icc_profile, rotate_odd_even)\u001b[0m\n\u001b[0;32m    114\u001b[0m \u001b[1;33m\u001b[0m\u001b[0m\n\u001b[0;32m    115\u001b[0m     \u001b[1;31m# multiply the rectangle by the original ratio\u001b[0m\u001b[1;33m\u001b[0m\u001b[1;33m\u001b[0m\u001b[1;33m\u001b[0m\u001b[0m\n\u001b[1;32m--> 116\u001b[1;33m     \u001b[0mrect\u001b[0m \u001b[1;33m*=\u001b[0m \u001b[0mratio\u001b[0m\u001b[1;33m\u001b[0m\u001b[1;33m\u001b[0m\u001b[0m\n\u001b[0m\u001b[0;32m    117\u001b[0m \u001b[1;33m\u001b[0m\u001b[0m\n\u001b[0;32m    118\u001b[0m     \u001b[1;31m# find the points we need to crop the full size original\u001b[0m\u001b[1;33m\u001b[0m\u001b[1;33m\u001b[0m\u001b[1;33m\u001b[0m\u001b[0m\n",
      "\u001b[1;31mUnboundLocalError\u001b[0m: local variable 'rect' referenced before assignment"
     ]
    }
   ],
   "source": [
    "# process every image in image_paths_list\n",
    "count = 0\n",
    "for image_path in image_paths_list:\n",
    "    print(f'starting to process {image_path.name}')\n",
    "    autocrop(image_path, dpi=410, resize_height=500, padding=50, original_icc_profile=True)\n",
    "    cropped_image_path = autocrop_directory_path.joinpath('00_cropped', image_path.name)\n",
    "    if cropped_image_path.is_file():\n",
    "        print(f'{image_path.name} was cropped')\n",
    "    count += 1\n"
   ]
  },
  {
   "cell_type": "code",
   "execution_count": 43,
   "metadata": {},
   "outputs": [
    {
     "data": {
      "text/plain": [
       "40"
      ]
     },
     "execution_count": 43,
     "metadata": {},
     "output_type": "execute_result"
    }
   ],
   "source": [
    "# get count value to see the index of the last image that was trying to be cropped (or cropped if all successful)\n",
    "count"
   ]
  },
  {
   "cell_type": "code",
   "execution_count": 44,
   "metadata": {},
   "outputs": [
    {
     "data": {
      "text/plain": [
       "WindowsPath('data/ex1/MS2685-1-1-1_0043.tif')"
      ]
     },
     "execution_count": 44,
     "metadata": {},
     "output_type": "execute_result"
    }
   ],
   "source": [
    "# double-check that image_paths_list[count] is the correct value\n",
    "image_paths_list[40]"
   ]
  },
  {
   "cell_type": "code",
   "execution_count": 45,
   "metadata": {},
   "outputs": [
    {
     "data": {
      "text/plain": [
       "WindowsPath('data/ex1/MS2685-1-1-1_0043.tif')"
      ]
     },
     "execution_count": 45,
     "metadata": {},
     "output_type": "execute_result"
    }
   ],
   "source": [
    "# identifies the last file that was counted\n",
    "image_paths_list[count]"
   ]
  },
  {
   "cell_type": "code",
   "execution_count": 51,
   "metadata": {
    "scrolled": true
   },
   "outputs": [
    {
     "data": {
      "text/plain": [
       "[WindowsPath('data/ex1/MS2685-1-1-1_0043.tif'),\n",
       " WindowsPath('data/ex1/MS2685-1-1-1_0044.tif')]"
      ]
     },
     "execution_count": 51,
     "metadata": {},
     "output_type": "execute_result"
    }
   ],
   "source": [
    "# lists the files from the last counted files through the end of the list; slices list \n",
    "image_paths_list[count:count+2]"
   ]
  },
  {
   "cell_type": "code",
   "execution_count": 52,
   "metadata": {},
   "outputs": [
    {
     "name": "stdout",
     "output_type": "stream",
     "text": [
      " starting with image_paths_list[40]\n",
      "starting to process MS2685-1-1-1_0043.tif\n",
      "MS2685-1-1-1_0043.tif was cropped\n",
      "starting to process MS2685-1-1-1_0044.tif\n",
      "MS2685-1-1-1_0044.tif was cropped\n"
     ]
    }
   ],
   "source": [
    "# process every image in image_paths_list\n",
    "print(f'--- starting with image_paths_list[{count}]')\n",
    "\n",
    "for image_path in image_paths_list[count:count+2]:\n",
    "    print(f'starting to process {image_path.name}')\n",
    "    autocrop(image_path, dpi=410, resize_height=1000, padding=50, original_icc_profile=True)\n",
    "    cropped_image_path = autocrop_directory_path.joinpath('00_cropped', image_path.name)\n",
    "    if cropped_image_path.is_file():\n",
    "        print(f'{image_path.name} was cropped')\n",
    "    count += 1\n",
    "\n"
   ]
  },
  {
   "cell_type": "code",
   "execution_count": 53,
   "metadata": {},
   "outputs": [
    {
     "data": {
      "text/plain": [
       "42"
      ]
     },
     "execution_count": 53,
     "metadata": {},
     "output_type": "execute_result"
    }
   ],
   "source": [
    "count"
   ]
  },
  {
   "cell_type": "code",
   "execution_count": 56,
   "metadata": {},
   "outputs": [
    {
     "name": "stdout",
     "output_type": "stream",
     "text": [
      "--- starting with image_paths_list[42]\n",
      "starting to process MS2685-1-1-1_0045.tif\n",
      "MS2685-1-1-1_0045.tif was cropped\n",
      "starting to process MS2685-1-1-1_0046.tif\n",
      "MS2685-1-1-1_0046.tif was cropped\n",
      "starting to process MS2685-1-1-1_0047.tif\n",
      "MS2685-1-1-1_0047.tif was cropped\n",
      "starting to process MS2685-1-1-1_0048.tif\n",
      "MS2685-1-1-1_0048.tif was cropped\n",
      "starting to process MS2685-1-1-1_0049.tif\n",
      "MS2685-1-1-1_0049.tif was cropped\n",
      "starting to process MS2685-1-1-1_0050.tif\n",
      "MS2685-1-1-1_0050.tif was cropped\n",
      "starting to process MS2685-1-1-1_0051.tif\n",
      "MS2685-1-1-1_0051.tif was cropped\n",
      "starting to process MS2685-1-1-1_0052.tif\n",
      "MS2685-1-1-1_0052.tif was cropped\n",
      "starting to process MS2685-1-1-1_0053.tif\n",
      "MS2685-1-1-1_0053.tif was cropped\n",
      "starting to process MS2685-1-1-1_0054.tif\n",
      "MS2685-1-1-1_0054.tif was cropped\n",
      "starting to process MS2685-1-1-1_0055.tif\n"
     ]
    },
    {
     "ename": "UnboundLocalError",
     "evalue": "local variable 'rect' referenced before assignment",
     "output_type": "error",
     "traceback": [
      "\u001b[1;31m---------------------------------------------------------------------------\u001b[0m",
      "\u001b[1;31mUnboundLocalError\u001b[0m                         Traceback (most recent call last)",
      "\u001b[1;32m<ipython-input-56-6ad9b32ab88d>\u001b[0m in \u001b[0;36m<module>\u001b[1;34m\u001b[0m\n\u001b[0;32m      5\u001b[0m \u001b[1;32mfor\u001b[0m \u001b[0mimage_path\u001b[0m \u001b[1;32min\u001b[0m \u001b[0mimage_paths_list\u001b[0m\u001b[1;33m[\u001b[0m\u001b[0mcount\u001b[0m\u001b[1;33m:\u001b[0m\u001b[1;33m]\u001b[0m\u001b[1;33m:\u001b[0m\u001b[1;33m\u001b[0m\u001b[1;33m\u001b[0m\u001b[0m\n\u001b[0;32m      6\u001b[0m     \u001b[0mprint\u001b[0m\u001b[1;33m(\u001b[0m\u001b[1;34mf'starting to process {image_path.name}'\u001b[0m\u001b[1;33m)\u001b[0m\u001b[1;33m\u001b[0m\u001b[1;33m\u001b[0m\u001b[0m\n\u001b[1;32m----> 7\u001b[1;33m     \u001b[0mautocrop\u001b[0m\u001b[1;33m(\u001b[0m\u001b[0mimage_path\u001b[0m\u001b[1;33m,\u001b[0m \u001b[0mdpi\u001b[0m\u001b[1;33m=\u001b[0m\u001b[1;36m410\u001b[0m\u001b[1;33m,\u001b[0m \u001b[0mresize_height\u001b[0m\u001b[1;33m=\u001b[0m\u001b[1;36m500\u001b[0m\u001b[1;33m,\u001b[0m \u001b[0mpadding\u001b[0m\u001b[1;33m=\u001b[0m\u001b[1;36m50\u001b[0m\u001b[1;33m,\u001b[0m \u001b[0moriginal_icc_profile\u001b[0m\u001b[1;33m=\u001b[0m\u001b[1;32mTrue\u001b[0m\u001b[1;33m)\u001b[0m\u001b[1;33m\u001b[0m\u001b[1;33m\u001b[0m\u001b[0m\n\u001b[0m\u001b[0;32m      8\u001b[0m     \u001b[0mcropped_image_path\u001b[0m \u001b[1;33m=\u001b[0m \u001b[0mautocrop_directory_path\u001b[0m\u001b[1;33m.\u001b[0m\u001b[0mjoinpath\u001b[0m\u001b[1;33m(\u001b[0m\u001b[1;34m'00_cropped'\u001b[0m\u001b[1;33m,\u001b[0m \u001b[0mimage_path\u001b[0m\u001b[1;33m.\u001b[0m\u001b[0mname\u001b[0m\u001b[1;33m)\u001b[0m\u001b[1;33m\u001b[0m\u001b[1;33m\u001b[0m\u001b[0m\n\u001b[0;32m      9\u001b[0m     \u001b[1;32mif\u001b[0m \u001b[0mcropped_image_path\u001b[0m\u001b[1;33m.\u001b[0m\u001b[0mis_file\u001b[0m\u001b[1;33m(\u001b[0m\u001b[1;33m)\u001b[0m\u001b[1;33m:\u001b[0m\u001b[1;33m\u001b[0m\u001b[1;33m\u001b[0m\u001b[0m\n",
      "\u001b[1;32m<ipython-input-41-20cf9ce558c4>\u001b[0m in \u001b[0;36mautocrop\u001b[1;34m(image_path, compression, resize_height, dpi, padding, original_icc_profile, rotate_odd_even)\u001b[0m\n\u001b[0;32m    114\u001b[0m \u001b[1;33m\u001b[0m\u001b[0m\n\u001b[0;32m    115\u001b[0m     \u001b[1;31m# multiply the rectangle by the original ratio\u001b[0m\u001b[1;33m\u001b[0m\u001b[1;33m\u001b[0m\u001b[1;33m\u001b[0m\u001b[0m\n\u001b[1;32m--> 116\u001b[1;33m     \u001b[0mrect\u001b[0m \u001b[1;33m*=\u001b[0m \u001b[0mratio\u001b[0m\u001b[1;33m\u001b[0m\u001b[1;33m\u001b[0m\u001b[0m\n\u001b[0m\u001b[0;32m    117\u001b[0m \u001b[1;33m\u001b[0m\u001b[0m\n\u001b[0;32m    118\u001b[0m     \u001b[1;31m# find the points we need to crop the full size original\u001b[0m\u001b[1;33m\u001b[0m\u001b[1;33m\u001b[0m\u001b[1;33m\u001b[0m\u001b[0m\n",
      "\u001b[1;31mUnboundLocalError\u001b[0m: local variable 'rect' referenced before assignment"
     ]
    }
   ],
   "source": [
    "# process every image in image_paths_list, adding in a set number for count because i done goofed and needed to go\n",
    "#back to that file\n",
    "count=42\n",
    "print(f'--- starting with image_paths_list[{count}]')\n",
    "for image_path in image_paths_list[count:]:\n",
    "    print(f'starting to process {image_path.name}')\n",
    "    autocrop(image_path, dpi=410, resize_height=500, padding=50, original_icc_profile=True)\n",
    "    cropped_image_path = autocrop_directory_path.joinpath('00_cropped', image_path.name)\n",
    "    if cropped_image_path.is_file():\n",
    "        print(f'{image_path.name} was cropped')\n",
    "    count += 1\n"
   ]
  },
  {
   "cell_type": "code",
   "execution_count": 57,
   "metadata": {},
   "outputs": [
    {
     "data": {
      "text/plain": [
       "52"
      ]
     },
     "execution_count": 57,
     "metadata": {},
     "output_type": "execute_result"
    }
   ],
   "source": [
    "count"
   ]
  },
  {
   "cell_type": "code",
   "execution_count": 58,
   "metadata": {},
   "outputs": [
    {
     "data": {
      "text/plain": [
       "WindowsPath('data/ex1/MS2685-1-1-1_0055.tif')"
      ]
     },
     "execution_count": 58,
     "metadata": {},
     "output_type": "execute_result"
    }
   ],
   "source": [
    "image_paths_list[count]"
   ]
  },
  {
   "cell_type": "code",
   "execution_count": 59,
   "metadata": {},
   "outputs": [
    {
     "name": "stdout",
     "output_type": "stream",
     "text": [
      "--- starting with image_paths_list[52]\n",
      "starting to process MS2685-1-1-1_0055.tif\n",
      "MS2685-1-1-1_0055.tif was cropped\n",
      "starting to process MS2685-1-1-1_0056.tif\n",
      "MS2685-1-1-1_0056.tif was cropped\n"
     ]
    }
   ],
   "source": [
    "# process every image in image_paths_list\n",
    "print(f'--- starting with image_paths_list[{count}]')\n",
    "\n",
    "for image_path in image_paths_list[count:count+2]:\n",
    "    print(f'starting to process {image_path.name}')\n",
    "    autocrop(image_path, dpi=410, resize_height=1000, padding=50, original_icc_profile=True)\n",
    "    cropped_image_path = autocrop_directory_path.joinpath('00_cropped', image_path.name)\n",
    "    if cropped_image_path.is_file():\n",
    "        print(f'{image_path.name} was cropped')\n",
    "    count += 1\n"
   ]
  },
  {
   "cell_type": "code",
   "execution_count": 60,
   "metadata": {},
   "outputs": [
    {
     "name": "stdout",
     "output_type": "stream",
     "text": [
      "--- starting with image_paths_list[54]\n",
      "starting to process MS2685-1-1-1_0057.tif\n",
      "MS2685-1-1-1_0057.tif was cropped\n",
      "starting to process MS2685-1-1-1_0058.tif\n",
      "MS2685-1-1-1_0058.tif was cropped\n",
      "starting to process MS2685-1-1-1_0059.tif\n",
      "MS2685-1-1-1_0059.tif was cropped\n",
      "starting to process MS2685-1-1-1_0060.tif\n",
      "MS2685-1-1-1_0060.tif was cropped\n",
      "starting to process MS2685-1-1-1_0061.tif\n",
      "MS2685-1-1-1_0061.tif was cropped\n",
      "starting to process MS2685-1-1-1_0062.tif\n",
      "MS2685-1-1-1_0062.tif was cropped\n",
      "starting to process MS2685-1-1-1_0063.tif\n",
      "MS2685-1-1-1_0063.tif was cropped\n",
      "starting to process MS2685-1-1-1_0064.tif\n",
      "MS2685-1-1-1_0064.tif was cropped\n",
      "starting to process MS2685-1-1-1_0065.tif\n",
      "MS2685-1-1-1_0065.tif was cropped\n",
      "starting to process MS2685-1-1-1_0066.tif\n",
      "MS2685-1-1-1_0066.tif was cropped\n",
      "starting to process MS2685-1-1-1_0067.tif\n",
      "MS2685-1-1-1_0067.tif was cropped\n",
      "starting to process MS2685-1-1-1_0068.tif\n",
      "MS2685-1-1-1_0068.tif was cropped\n",
      "starting to process MS2685-1-1-1_0069.tif\n",
      "MS2685-1-1-1_0069.tif was cropped\n",
      "starting to process MS2685-1-1-1_0070.tif\n",
      "MS2685-1-1-1_0070.tif was cropped\n",
      "starting to process MS2685-1-2-2_0001.tif\n",
      "MS2685-1-2-2_0001.tif was cropped\n",
      "starting to process MS2685-1-2-2_0002.tif\n",
      "MS2685-1-2-2_0002.tif was cropped\n",
      "starting to process MS2685-1-2-2_0003c.tif\n",
      "MS2685-1-2-2_0003c.tif was cropped\n",
      "starting to process MS2685-1-2-2_0004.tif\n",
      "MS2685-1-2-2_0004.tif was cropped\n",
      "starting to process MS2685-1-2-2_0005.tif\n",
      "MS2685-1-2-2_0005.tif was cropped\n",
      "starting to process MS2685-1-2-2_0006.tif\n",
      "MS2685-1-2-2_0006.tif was cropped\n",
      "starting to process MS2685-1-2-2_0007a.tif\n",
      "MS2685-1-2-2_0007a.tif was cropped\n",
      "starting to process MS2685-1-2-2_0007b.tif\n",
      "MS2685-1-2-2_0007b.tif was cropped\n",
      "starting to process MS2685-1-2-2_0008.tif\n",
      "MS2685-1-2-2_0008.tif was cropped\n",
      "starting to process MS2685-1-2-2_0009.tif\n",
      "MS2685-1-2-2_0009.tif was cropped\n",
      "starting to process MS2685-1-2-2_0010.tif\n",
      "MS2685-1-2-2_0010.tif was cropped\n",
      "starting to process MS2685-1-2-2_0011.tif\n",
      "MS2685-1-2-2_0011.tif was cropped\n",
      "starting to process MS2685-1-2-2_0012.tif\n",
      "MS2685-1-2-2_0012.tif was cropped\n",
      "starting to process MS2685-1-2-2_0013.tif\n",
      "MS2685-1-2-2_0013.tif was cropped\n",
      "starting to process MS2685-1-2-2_0014.tif\n",
      "MS2685-1-2-2_0014.tif was cropped\n",
      "starting to process MS2685-1-2-2_0015.tif\n"
     ]
    },
    {
     "ename": "UnboundLocalError",
     "evalue": "local variable 'rect' referenced before assignment",
     "output_type": "error",
     "traceback": [
      "\u001b[1;31m---------------------------------------------------------------------------\u001b[0m",
      "\u001b[1;31mUnboundLocalError\u001b[0m                         Traceback (most recent call last)",
      "\u001b[1;32m<ipython-input-60-c5d75e0581bd>\u001b[0m in \u001b[0;36m<module>\u001b[1;34m\u001b[0m\n\u001b[0;32m      5\u001b[0m \u001b[1;32mfor\u001b[0m \u001b[0mimage_path\u001b[0m \u001b[1;32min\u001b[0m \u001b[0mimage_paths_list\u001b[0m\u001b[1;33m[\u001b[0m\u001b[0mcount\u001b[0m\u001b[1;33m:\u001b[0m\u001b[1;33m]\u001b[0m\u001b[1;33m:\u001b[0m\u001b[1;33m\u001b[0m\u001b[1;33m\u001b[0m\u001b[0m\n\u001b[0;32m      6\u001b[0m     \u001b[0mprint\u001b[0m\u001b[1;33m(\u001b[0m\u001b[1;34mf'starting to process {image_path.name}'\u001b[0m\u001b[1;33m)\u001b[0m\u001b[1;33m\u001b[0m\u001b[1;33m\u001b[0m\u001b[0m\n\u001b[1;32m----> 7\u001b[1;33m     \u001b[0mautocrop\u001b[0m\u001b[1;33m(\u001b[0m\u001b[0mimage_path\u001b[0m\u001b[1;33m,\u001b[0m \u001b[0mdpi\u001b[0m\u001b[1;33m=\u001b[0m\u001b[1;36m410\u001b[0m\u001b[1;33m,\u001b[0m \u001b[0mresize_height\u001b[0m\u001b[1;33m=\u001b[0m\u001b[1;36m500\u001b[0m\u001b[1;33m,\u001b[0m \u001b[0mpadding\u001b[0m\u001b[1;33m=\u001b[0m\u001b[1;36m50\u001b[0m\u001b[1;33m,\u001b[0m \u001b[0moriginal_icc_profile\u001b[0m\u001b[1;33m=\u001b[0m\u001b[1;32mTrue\u001b[0m\u001b[1;33m)\u001b[0m\u001b[1;33m\u001b[0m\u001b[1;33m\u001b[0m\u001b[0m\n\u001b[0m\u001b[0;32m      8\u001b[0m     \u001b[0mcropped_image_path\u001b[0m \u001b[1;33m=\u001b[0m \u001b[0mautocrop_directory_path\u001b[0m\u001b[1;33m.\u001b[0m\u001b[0mjoinpath\u001b[0m\u001b[1;33m(\u001b[0m\u001b[1;34m'00_cropped'\u001b[0m\u001b[1;33m,\u001b[0m \u001b[0mimage_path\u001b[0m\u001b[1;33m.\u001b[0m\u001b[0mname\u001b[0m\u001b[1;33m)\u001b[0m\u001b[1;33m\u001b[0m\u001b[1;33m\u001b[0m\u001b[0m\n\u001b[0;32m      9\u001b[0m     \u001b[1;32mif\u001b[0m \u001b[0mcropped_image_path\u001b[0m\u001b[1;33m.\u001b[0m\u001b[0mis_file\u001b[0m\u001b[1;33m(\u001b[0m\u001b[1;33m)\u001b[0m\u001b[1;33m:\u001b[0m\u001b[1;33m\u001b[0m\u001b[1;33m\u001b[0m\u001b[0m\n",
      "\u001b[1;32m<ipython-input-41-20cf9ce558c4>\u001b[0m in \u001b[0;36mautocrop\u001b[1;34m(image_path, compression, resize_height, dpi, padding, original_icc_profile, rotate_odd_even)\u001b[0m\n\u001b[0;32m    114\u001b[0m \u001b[1;33m\u001b[0m\u001b[0m\n\u001b[0;32m    115\u001b[0m     \u001b[1;31m# multiply the rectangle by the original ratio\u001b[0m\u001b[1;33m\u001b[0m\u001b[1;33m\u001b[0m\u001b[1;33m\u001b[0m\u001b[0m\n\u001b[1;32m--> 116\u001b[1;33m     \u001b[0mrect\u001b[0m \u001b[1;33m*=\u001b[0m \u001b[0mratio\u001b[0m\u001b[1;33m\u001b[0m\u001b[1;33m\u001b[0m\u001b[0m\n\u001b[0m\u001b[0;32m    117\u001b[0m \u001b[1;33m\u001b[0m\u001b[0m\n\u001b[0;32m    118\u001b[0m     \u001b[1;31m# find the points we need to crop the full size original\u001b[0m\u001b[1;33m\u001b[0m\u001b[1;33m\u001b[0m\u001b[1;33m\u001b[0m\u001b[0m\n",
      "\u001b[1;31mUnboundLocalError\u001b[0m: local variable 'rect' referenced before assignment"
     ]
    }
   ],
   "source": [
    "# process every image in image_paths_list, adding in a set number for count because i done goofed and needed to go\n",
    "#back to that file\n",
    "\n",
    "print(f'--- starting with image_paths_list[{count}]')\n",
    "for image_path in image_paths_list[count:]:\n",
    "    print(f'starting to process {image_path.name}')\n",
    "    autocrop(image_path, dpi=410, resize_height=500, padding=50, original_icc_profile=True)\n",
    "    cropped_image_path = autocrop_directory_path.joinpath('00_cropped', image_path.name)\n",
    "    if cropped_image_path.is_file():\n",
    "        print(f'{image_path.name} was cropped')\n",
    "    count += 1"
   ]
  },
  {
   "cell_type": "code",
   "execution_count": 61,
   "metadata": {},
   "outputs": [
    {
     "data": {
      "text/plain": [
       "83"
      ]
     },
     "execution_count": 61,
     "metadata": {},
     "output_type": "execute_result"
    }
   ],
   "source": [
    "count"
   ]
  },
  {
   "cell_type": "code",
   "execution_count": 62,
   "metadata": {},
   "outputs": [
    {
     "data": {
      "text/plain": [
       "WindowsPath('data/ex1/MS2685-1-2-2_0015.tif')"
      ]
     },
     "execution_count": 62,
     "metadata": {},
     "output_type": "execute_result"
    }
   ],
   "source": [
    "image_paths_list[count]"
   ]
  },
  {
   "cell_type": "code",
   "execution_count": 63,
   "metadata": {},
   "outputs": [
    {
     "name": "stdout",
     "output_type": "stream",
     "text": [
      "--- starting with image_paths_list[83]\n",
      "starting to process MS2685-1-2-2_0015.tif\n",
      "MS2685-1-2-2_0015.tif was cropped\n",
      "starting to process MS2685-1-2-2_0016.tif\n",
      "MS2685-1-2-2_0016.tif was cropped\n"
     ]
    }
   ],
   "source": [
    "# process every image in image_paths_list\n",
    "print(f'--- starting with image_paths_list[{count}]')\n",
    "\n",
    "for image_path in image_paths_list[count:count+2]:\n",
    "    print(f'starting to process {image_path.name}')\n",
    "    autocrop(image_path, dpi=410, resize_height=1000, padding=50, original_icc_profile=True)\n",
    "    cropped_image_path = autocrop_directory_path.joinpath('00_cropped', image_path.name)\n",
    "    if cropped_image_path.is_file():\n",
    "        print(f'{image_path.name} was cropped')\n",
    "    count += 1"
   ]
  },
  {
   "cell_type": "code",
   "execution_count": 64,
   "metadata": {},
   "outputs": [
    {
     "name": "stdout",
     "output_type": "stream",
     "text": [
      "--- starting with image_paths_list[85]\n",
      "starting to process MS2685-1-2-2_0017.tif\n",
      "MS2685-1-2-2_0017.tif was cropped\n",
      "starting to process MS2685-1-2-2_0018.tif\n"
     ]
    },
    {
     "ename": "UnboundLocalError",
     "evalue": "local variable 'rect' referenced before assignment",
     "output_type": "error",
     "traceback": [
      "\u001b[1;31m---------------------------------------------------------------------------\u001b[0m",
      "\u001b[1;31mUnboundLocalError\u001b[0m                         Traceback (most recent call last)",
      "\u001b[1;32m<ipython-input-64-c5d75e0581bd>\u001b[0m in \u001b[0;36m<module>\u001b[1;34m\u001b[0m\n\u001b[0;32m      5\u001b[0m \u001b[1;32mfor\u001b[0m \u001b[0mimage_path\u001b[0m \u001b[1;32min\u001b[0m \u001b[0mimage_paths_list\u001b[0m\u001b[1;33m[\u001b[0m\u001b[0mcount\u001b[0m\u001b[1;33m:\u001b[0m\u001b[1;33m]\u001b[0m\u001b[1;33m:\u001b[0m\u001b[1;33m\u001b[0m\u001b[1;33m\u001b[0m\u001b[0m\n\u001b[0;32m      6\u001b[0m     \u001b[0mprint\u001b[0m\u001b[1;33m(\u001b[0m\u001b[1;34mf'starting to process {image_path.name}'\u001b[0m\u001b[1;33m)\u001b[0m\u001b[1;33m\u001b[0m\u001b[1;33m\u001b[0m\u001b[0m\n\u001b[1;32m----> 7\u001b[1;33m     \u001b[0mautocrop\u001b[0m\u001b[1;33m(\u001b[0m\u001b[0mimage_path\u001b[0m\u001b[1;33m,\u001b[0m \u001b[0mdpi\u001b[0m\u001b[1;33m=\u001b[0m\u001b[1;36m410\u001b[0m\u001b[1;33m,\u001b[0m \u001b[0mresize_height\u001b[0m\u001b[1;33m=\u001b[0m\u001b[1;36m500\u001b[0m\u001b[1;33m,\u001b[0m \u001b[0mpadding\u001b[0m\u001b[1;33m=\u001b[0m\u001b[1;36m50\u001b[0m\u001b[1;33m,\u001b[0m \u001b[0moriginal_icc_profile\u001b[0m\u001b[1;33m=\u001b[0m\u001b[1;32mTrue\u001b[0m\u001b[1;33m)\u001b[0m\u001b[1;33m\u001b[0m\u001b[1;33m\u001b[0m\u001b[0m\n\u001b[0m\u001b[0;32m      8\u001b[0m     \u001b[0mcropped_image_path\u001b[0m \u001b[1;33m=\u001b[0m \u001b[0mautocrop_directory_path\u001b[0m\u001b[1;33m.\u001b[0m\u001b[0mjoinpath\u001b[0m\u001b[1;33m(\u001b[0m\u001b[1;34m'00_cropped'\u001b[0m\u001b[1;33m,\u001b[0m \u001b[0mimage_path\u001b[0m\u001b[1;33m.\u001b[0m\u001b[0mname\u001b[0m\u001b[1;33m)\u001b[0m\u001b[1;33m\u001b[0m\u001b[1;33m\u001b[0m\u001b[0m\n\u001b[0;32m      9\u001b[0m     \u001b[1;32mif\u001b[0m \u001b[0mcropped_image_path\u001b[0m\u001b[1;33m.\u001b[0m\u001b[0mis_file\u001b[0m\u001b[1;33m(\u001b[0m\u001b[1;33m)\u001b[0m\u001b[1;33m:\u001b[0m\u001b[1;33m\u001b[0m\u001b[1;33m\u001b[0m\u001b[0m\n",
      "\u001b[1;32m<ipython-input-41-20cf9ce558c4>\u001b[0m in \u001b[0;36mautocrop\u001b[1;34m(image_path, compression, resize_height, dpi, padding, original_icc_profile, rotate_odd_even)\u001b[0m\n\u001b[0;32m    114\u001b[0m \u001b[1;33m\u001b[0m\u001b[0m\n\u001b[0;32m    115\u001b[0m     \u001b[1;31m# multiply the rectangle by the original ratio\u001b[0m\u001b[1;33m\u001b[0m\u001b[1;33m\u001b[0m\u001b[1;33m\u001b[0m\u001b[0m\n\u001b[1;32m--> 116\u001b[1;33m     \u001b[0mrect\u001b[0m \u001b[1;33m*=\u001b[0m \u001b[0mratio\u001b[0m\u001b[1;33m\u001b[0m\u001b[1;33m\u001b[0m\u001b[0m\n\u001b[0m\u001b[0;32m    117\u001b[0m \u001b[1;33m\u001b[0m\u001b[0m\n\u001b[0;32m    118\u001b[0m     \u001b[1;31m# find the points we need to crop the full size original\u001b[0m\u001b[1;33m\u001b[0m\u001b[1;33m\u001b[0m\u001b[1;33m\u001b[0m\u001b[0m\n",
      "\u001b[1;31mUnboundLocalError\u001b[0m: local variable 'rect' referenced before assignment"
     ]
    }
   ],
   "source": [
    "# process every image in image_paths_list, adding in a set number for count because i done goofed and needed to go\n",
    "#back to that file\n",
    "\n",
    "print(f'--- starting with image_paths_list[{count}]')\n",
    "for image_path in image_paths_list[count:]:\n",
    "    print(f'starting to process {image_path.name}')\n",
    "    autocrop(image_path, dpi=410, resize_height=500, padding=50, original_icc_profile=True)\n",
    "    cropped_image_path = autocrop_directory_path.joinpath('00_cropped', image_path.name)\n",
    "    if cropped_image_path.is_file():\n",
    "        print(f'{image_path.name} was cropped')\n",
    "    count += 1"
   ]
  },
  {
   "cell_type": "code",
   "execution_count": 65,
   "metadata": {},
   "outputs": [
    {
     "data": {
      "text/plain": [
       "86"
      ]
     },
     "execution_count": 65,
     "metadata": {},
     "output_type": "execute_result"
    }
   ],
   "source": [
    "count"
   ]
  },
  {
   "cell_type": "code",
   "execution_count": 66,
   "metadata": {},
   "outputs": [
    {
     "data": {
      "text/plain": [
       "WindowsPath('data/ex1/MS2685-1-2-2_0018.tif')"
      ]
     },
     "execution_count": 66,
     "metadata": {},
     "output_type": "execute_result"
    }
   ],
   "source": [
    "image_paths_list[count]"
   ]
  },
  {
   "cell_type": "code",
   "execution_count": 67,
   "metadata": {},
   "outputs": [
    {
     "name": "stdout",
     "output_type": "stream",
     "text": [
      "--- starting with image_paths_list[86]\n",
      "starting to process MS2685-1-2-2_0018.tif\n",
      "MS2685-1-2-2_0018.tif was cropped\n"
     ]
    }
   ],
   "source": [
    "# process every image in image_paths_list\n",
    "print(f'--- starting with image_paths_list[{count}]')\n",
    "\n",
    "for image_path in image_paths_list[count:count+1]:\n",
    "    print(f'starting to process {image_path.name}')\n",
    "    autocrop(image_path, dpi=410, resize_height=1000, padding=50, original_icc_profile=True)\n",
    "    cropped_image_path = autocrop_directory_path.joinpath('00_cropped', image_path.name)\n",
    "    if cropped_image_path.is_file():\n",
    "        print(f'{image_path.name} was cropped')\n",
    "    count += 1"
   ]
  },
  {
   "cell_type": "code",
   "execution_count": 68,
   "metadata": {},
   "outputs": [
    {
     "name": "stdout",
     "output_type": "stream",
     "text": [
      "--- starting with image_paths_list[87]\n",
      "starting to process MS2685-1-3-3_0001.tif\n",
      "MS2685-1-3-3_0001.tif was cropped\n",
      "starting to process MS2685-1-3-3_0002.tif\n",
      "MS2685-1-3-3_0002.tif was cropped\n",
      "starting to process MS2685-1-3-3_0003.tif\n",
      "MS2685-1-3-3_0003.tif was cropped\n",
      "starting to process MS2685-1-3-3_0004.tif\n",
      "MS2685-1-3-3_0004.tif was cropped\n",
      "starting to process MS2686-1-1-2_0001.tif\n",
      "MS2686-1-1-2_0001.tif was cropped\n",
      "starting to process MS2686-1-1-2_0002.tif\n",
      "MS2686-1-1-2_0002.tif was cropped\n",
      "starting to process MS2686-1-1-2_0003.tif\n"
     ]
    },
    {
     "ename": "UnboundLocalError",
     "evalue": "local variable 'rect' referenced before assignment",
     "output_type": "error",
     "traceback": [
      "\u001b[1;31m---------------------------------------------------------------------------\u001b[0m",
      "\u001b[1;31mUnboundLocalError\u001b[0m                         Traceback (most recent call last)",
      "\u001b[1;32m<ipython-input-68-c5d75e0581bd>\u001b[0m in \u001b[0;36m<module>\u001b[1;34m\u001b[0m\n\u001b[0;32m      5\u001b[0m \u001b[1;32mfor\u001b[0m \u001b[0mimage_path\u001b[0m \u001b[1;32min\u001b[0m \u001b[0mimage_paths_list\u001b[0m\u001b[1;33m[\u001b[0m\u001b[0mcount\u001b[0m\u001b[1;33m:\u001b[0m\u001b[1;33m]\u001b[0m\u001b[1;33m:\u001b[0m\u001b[1;33m\u001b[0m\u001b[1;33m\u001b[0m\u001b[0m\n\u001b[0;32m      6\u001b[0m     \u001b[0mprint\u001b[0m\u001b[1;33m(\u001b[0m\u001b[1;34mf'starting to process {image_path.name}'\u001b[0m\u001b[1;33m)\u001b[0m\u001b[1;33m\u001b[0m\u001b[1;33m\u001b[0m\u001b[0m\n\u001b[1;32m----> 7\u001b[1;33m     \u001b[0mautocrop\u001b[0m\u001b[1;33m(\u001b[0m\u001b[0mimage_path\u001b[0m\u001b[1;33m,\u001b[0m \u001b[0mdpi\u001b[0m\u001b[1;33m=\u001b[0m\u001b[1;36m410\u001b[0m\u001b[1;33m,\u001b[0m \u001b[0mresize_height\u001b[0m\u001b[1;33m=\u001b[0m\u001b[1;36m500\u001b[0m\u001b[1;33m,\u001b[0m \u001b[0mpadding\u001b[0m\u001b[1;33m=\u001b[0m\u001b[1;36m50\u001b[0m\u001b[1;33m,\u001b[0m \u001b[0moriginal_icc_profile\u001b[0m\u001b[1;33m=\u001b[0m\u001b[1;32mTrue\u001b[0m\u001b[1;33m)\u001b[0m\u001b[1;33m\u001b[0m\u001b[1;33m\u001b[0m\u001b[0m\n\u001b[0m\u001b[0;32m      8\u001b[0m     \u001b[0mcropped_image_path\u001b[0m \u001b[1;33m=\u001b[0m \u001b[0mautocrop_directory_path\u001b[0m\u001b[1;33m.\u001b[0m\u001b[0mjoinpath\u001b[0m\u001b[1;33m(\u001b[0m\u001b[1;34m'00_cropped'\u001b[0m\u001b[1;33m,\u001b[0m \u001b[0mimage_path\u001b[0m\u001b[1;33m.\u001b[0m\u001b[0mname\u001b[0m\u001b[1;33m)\u001b[0m\u001b[1;33m\u001b[0m\u001b[1;33m\u001b[0m\u001b[0m\n\u001b[0;32m      9\u001b[0m     \u001b[1;32mif\u001b[0m \u001b[0mcropped_image_path\u001b[0m\u001b[1;33m.\u001b[0m\u001b[0mis_file\u001b[0m\u001b[1;33m(\u001b[0m\u001b[1;33m)\u001b[0m\u001b[1;33m:\u001b[0m\u001b[1;33m\u001b[0m\u001b[1;33m\u001b[0m\u001b[0m\n",
      "\u001b[1;32m<ipython-input-41-20cf9ce558c4>\u001b[0m in \u001b[0;36mautocrop\u001b[1;34m(image_path, compression, resize_height, dpi, padding, original_icc_profile, rotate_odd_even)\u001b[0m\n\u001b[0;32m    114\u001b[0m \u001b[1;33m\u001b[0m\u001b[0m\n\u001b[0;32m    115\u001b[0m     \u001b[1;31m# multiply the rectangle by the original ratio\u001b[0m\u001b[1;33m\u001b[0m\u001b[1;33m\u001b[0m\u001b[1;33m\u001b[0m\u001b[0m\n\u001b[1;32m--> 116\u001b[1;33m     \u001b[0mrect\u001b[0m \u001b[1;33m*=\u001b[0m \u001b[0mratio\u001b[0m\u001b[1;33m\u001b[0m\u001b[1;33m\u001b[0m\u001b[0m\n\u001b[0m\u001b[0;32m    117\u001b[0m \u001b[1;33m\u001b[0m\u001b[0m\n\u001b[0;32m    118\u001b[0m     \u001b[1;31m# find the points we need to crop the full size original\u001b[0m\u001b[1;33m\u001b[0m\u001b[1;33m\u001b[0m\u001b[1;33m\u001b[0m\u001b[0m\n",
      "\u001b[1;31mUnboundLocalError\u001b[0m: local variable 'rect' referenced before assignment"
     ]
    }
   ],
   "source": [
    "# process every image in image_paths_list, adding in a set number for count because i done goofed and needed to go\n",
    "#back to that file\n",
    "\n",
    "print(f'--- starting with image_paths_list[{count}]')\n",
    "for image_path in image_paths_list[count:]:\n",
    "    print(f'starting to process {image_path.name}')\n",
    "    autocrop(image_path, dpi=410, resize_height=500, padding=50, original_icc_profile=True)\n",
    "    cropped_image_path = autocrop_directory_path.joinpath('00_cropped', image_path.name)\n",
    "    if cropped_image_path.is_file():\n",
    "        print(f'{image_path.name} was cropped')\n",
    "    count += 1"
   ]
  },
  {
   "cell_type": "code",
   "execution_count": 69,
   "metadata": {},
   "outputs": [
    {
     "data": {
      "text/plain": [
       "93"
      ]
     },
     "execution_count": 69,
     "metadata": {},
     "output_type": "execute_result"
    }
   ],
   "source": [
    "count"
   ]
  },
  {
   "cell_type": "code",
   "execution_count": 71,
   "metadata": {},
   "outputs": [
    {
     "data": {
      "text/plain": [
       "WindowsPath('data/ex1/MS2686-1-1-2_0003.tif')"
      ]
     },
     "execution_count": 71,
     "metadata": {},
     "output_type": "execute_result"
    }
   ],
   "source": [
    "image_paths_list[count]"
   ]
  },
  {
   "cell_type": "code",
   "execution_count": 75,
   "metadata": {},
   "outputs": [
    {
     "name": "stdout",
     "output_type": "stream",
     "text": [
      "--- starting with image_paths_list[93]\n",
      "starting to process MS2686-1-1-2_0003.tif\n",
      "MS2686-1-1-2_0003.tif was cropped\n",
      "starting to process MS2686-1-1-2_0004.tif\n",
      "MS2686-1-1-2_0004.tif was cropped\n"
     ]
    }
   ],
   "source": [
    "# process every image in image_paths_list, adding in a set number for count because i done goofed and needed to go\n",
    "#back to that file\n",
    "count = 93\n",
    "print(f'--- starting with image_paths_list[{count}]')\n",
    "for image_path in image_paths_list[count:count+2]:\n",
    "    print(f'starting to process {image_path.name}')\n",
    "    autocrop(image_path, dpi=410, resize_height=1000, padding=50, original_icc_profile=True)\n",
    "    cropped_image_path = autocrop_directory_path.joinpath('00_cropped', image_path.name)\n",
    "    if cropped_image_path.is_file():\n",
    "        print(f'{image_path.name} was cropped')\n",
    "    count += 1"
   ]
  },
  {
   "cell_type": "code",
   "execution_count": 76,
   "metadata": {},
   "outputs": [
    {
     "name": "stdout",
     "output_type": "stream",
     "text": [
      "--- starting with image_paths_list[95]\n",
      "starting to process MS2686-1-1-2_0005.tif\n",
      "MS2686-1-1-2_0005.tif was cropped\n",
      "starting to process MS2686-1-1-2_0006.tif\n",
      "MS2686-1-1-2_0006.tif was cropped\n",
      "starting to process MS2686-1-1-2_0007.tif\n",
      "MS2686-1-1-2_0007.tif was cropped\n",
      "starting to process MS2686-1-1-2_0008.tif\n",
      "MS2686-1-1-2_0008.tif was cropped\n",
      "starting to process MS2686-1-1-2_0009.tif\n",
      "MS2686-1-1-2_0009.tif was cropped\n",
      "starting to process MS2686-1-1-2_0010.tif\n",
      "MS2686-1-1-2_0010.tif was cropped\n",
      "starting to process MS2686-1-1-2_0011.tif\n",
      "MS2686-1-1-2_0011.tif was cropped\n",
      "starting to process MS2686-1-1-2_0012.tif\n",
      "MS2686-1-1-2_0012.tif was cropped\n",
      "starting to process MS2686-1-1-2_0013.tif\n",
      "MS2686-1-1-2_0013.tif was cropped\n",
      "starting to process MS2686-1-1-2_0014.tif\n",
      "MS2686-1-1-2_0014.tif was cropped\n",
      "starting to process MS2686-1-1-2_0015.tif\n",
      "MS2686-1-1-2_0015.tif was cropped\n",
      "starting to process MS2686-1-1-2_0016.tif\n",
      "MS2686-1-1-2_0016.tif was cropped\n",
      "starting to process MS2686-1-1-2_0017.tif\n",
      "MS2686-1-1-2_0017.tif was cropped\n",
      "starting to process MS2686-1-1-2_0018.tif\n",
      "MS2686-1-1-2_0018.tif was cropped\n",
      "starting to process MS2686-1-1-2_0019.tif\n",
      "MS2686-1-1-2_0019.tif was cropped\n",
      "starting to process MS2686-1-1-2_0020.tif\n",
      "MS2686-1-1-2_0020.tif was cropped\n",
      "starting to process MS2686-1-1-2_0021.tif\n",
      "MS2686-1-1-2_0021.tif was cropped\n",
      "starting to process MS2686-1-1-2_0022.tif\n",
      "MS2686-1-1-2_0022.tif was cropped\n",
      "starting to process MS2686-1-1-2_0023.tif\n",
      "MS2686-1-1-2_0023.tif was cropped\n",
      "starting to process MS2686-1-1-2_0024.tif\n",
      "MS2686-1-1-2_0024.tif was cropped\n",
      "starting to process MS2686-1-1-2_0025.tif\n"
     ]
    },
    {
     "ename": "UnboundLocalError",
     "evalue": "local variable 'rect' referenced before assignment",
     "output_type": "error",
     "traceback": [
      "\u001b[1;31m---------------------------------------------------------------------------\u001b[0m",
      "\u001b[1;31mUnboundLocalError\u001b[0m                         Traceback (most recent call last)",
      "\u001b[1;32m<ipython-input-76-c5d75e0581bd>\u001b[0m in \u001b[0;36m<module>\u001b[1;34m\u001b[0m\n\u001b[0;32m      5\u001b[0m \u001b[1;32mfor\u001b[0m \u001b[0mimage_path\u001b[0m \u001b[1;32min\u001b[0m \u001b[0mimage_paths_list\u001b[0m\u001b[1;33m[\u001b[0m\u001b[0mcount\u001b[0m\u001b[1;33m:\u001b[0m\u001b[1;33m]\u001b[0m\u001b[1;33m:\u001b[0m\u001b[1;33m\u001b[0m\u001b[1;33m\u001b[0m\u001b[0m\n\u001b[0;32m      6\u001b[0m     \u001b[0mprint\u001b[0m\u001b[1;33m(\u001b[0m\u001b[1;34mf'starting to process {image_path.name}'\u001b[0m\u001b[1;33m)\u001b[0m\u001b[1;33m\u001b[0m\u001b[1;33m\u001b[0m\u001b[0m\n\u001b[1;32m----> 7\u001b[1;33m     \u001b[0mautocrop\u001b[0m\u001b[1;33m(\u001b[0m\u001b[0mimage_path\u001b[0m\u001b[1;33m,\u001b[0m \u001b[0mdpi\u001b[0m\u001b[1;33m=\u001b[0m\u001b[1;36m410\u001b[0m\u001b[1;33m,\u001b[0m \u001b[0mresize_height\u001b[0m\u001b[1;33m=\u001b[0m\u001b[1;36m500\u001b[0m\u001b[1;33m,\u001b[0m \u001b[0mpadding\u001b[0m\u001b[1;33m=\u001b[0m\u001b[1;36m50\u001b[0m\u001b[1;33m,\u001b[0m \u001b[0moriginal_icc_profile\u001b[0m\u001b[1;33m=\u001b[0m\u001b[1;32mTrue\u001b[0m\u001b[1;33m)\u001b[0m\u001b[1;33m\u001b[0m\u001b[1;33m\u001b[0m\u001b[0m\n\u001b[0m\u001b[0;32m      8\u001b[0m     \u001b[0mcropped_image_path\u001b[0m \u001b[1;33m=\u001b[0m \u001b[0mautocrop_directory_path\u001b[0m\u001b[1;33m.\u001b[0m\u001b[0mjoinpath\u001b[0m\u001b[1;33m(\u001b[0m\u001b[1;34m'00_cropped'\u001b[0m\u001b[1;33m,\u001b[0m \u001b[0mimage_path\u001b[0m\u001b[1;33m.\u001b[0m\u001b[0mname\u001b[0m\u001b[1;33m)\u001b[0m\u001b[1;33m\u001b[0m\u001b[1;33m\u001b[0m\u001b[0m\n\u001b[0;32m      9\u001b[0m     \u001b[1;32mif\u001b[0m \u001b[0mcropped_image_path\u001b[0m\u001b[1;33m.\u001b[0m\u001b[0mis_file\u001b[0m\u001b[1;33m(\u001b[0m\u001b[1;33m)\u001b[0m\u001b[1;33m:\u001b[0m\u001b[1;33m\u001b[0m\u001b[1;33m\u001b[0m\u001b[0m\n",
      "\u001b[1;32m<ipython-input-41-20cf9ce558c4>\u001b[0m in \u001b[0;36mautocrop\u001b[1;34m(image_path, compression, resize_height, dpi, padding, original_icc_profile, rotate_odd_even)\u001b[0m\n\u001b[0;32m    114\u001b[0m \u001b[1;33m\u001b[0m\u001b[0m\n\u001b[0;32m    115\u001b[0m     \u001b[1;31m# multiply the rectangle by the original ratio\u001b[0m\u001b[1;33m\u001b[0m\u001b[1;33m\u001b[0m\u001b[1;33m\u001b[0m\u001b[0m\n\u001b[1;32m--> 116\u001b[1;33m     \u001b[0mrect\u001b[0m \u001b[1;33m*=\u001b[0m \u001b[0mratio\u001b[0m\u001b[1;33m\u001b[0m\u001b[1;33m\u001b[0m\u001b[0m\n\u001b[0m\u001b[0;32m    117\u001b[0m \u001b[1;33m\u001b[0m\u001b[0m\n\u001b[0;32m    118\u001b[0m     \u001b[1;31m# find the points we need to crop the full size original\u001b[0m\u001b[1;33m\u001b[0m\u001b[1;33m\u001b[0m\u001b[1;33m\u001b[0m\u001b[0m\n",
      "\u001b[1;31mUnboundLocalError\u001b[0m: local variable 'rect' referenced before assignment"
     ]
    }
   ],
   "source": [
    "# process every image in image_paths_list, adding in a set number for count because i done goofed and needed to go\n",
    "#back to that file\n",
    "\n",
    "print(f'--- starting with image_paths_list[{count}]')\n",
    "for image_path in image_paths_list[count:]:\n",
    "    print(f'starting to process {image_path.name}')\n",
    "    autocrop(image_path, dpi=410, resize_height=500, padding=50, original_icc_profile=True)\n",
    "    cropped_image_path = autocrop_directory_path.joinpath('00_cropped', image_path.name)\n",
    "    if cropped_image_path.is_file():\n",
    "        print(f'{image_path.name} was cropped')\n",
    "    count += 1"
   ]
  },
  {
   "cell_type": "code",
   "execution_count": 77,
   "metadata": {},
   "outputs": [
    {
     "data": {
      "text/plain": [
       "115"
      ]
     },
     "execution_count": 77,
     "metadata": {},
     "output_type": "execute_result"
    }
   ],
   "source": [
    "count"
   ]
  },
  {
   "cell_type": "code",
   "execution_count": 78,
   "metadata": {},
   "outputs": [
    {
     "data": {
      "text/plain": [
       "WindowsPath('data/ex1/MS2686-1-1-2_0025.tif')"
      ]
     },
     "execution_count": 78,
     "metadata": {},
     "output_type": "execute_result"
    }
   ],
   "source": [
    "image_paths_list[count]"
   ]
  },
  {
   "cell_type": "code",
   "execution_count": 79,
   "metadata": {},
   "outputs": [
    {
     "name": "stdout",
     "output_type": "stream",
     "text": [
      "--- starting with image_paths_list[115]\n",
      "starting to process MS2686-1-1-2_0025.tif\n",
      "MS2686-1-1-2_0025.tif was cropped\n",
      "starting to process MS2686-1-1-2_0026.tif\n",
      "MS2686-1-1-2_0026.tif was cropped\n"
     ]
    }
   ],
   "source": [
    "# process every image in image_paths_list, adding in a set number for count because i done goofed and needed to go\n",
    "#back to that file\n",
    "\n",
    "print(f'--- starting with image_paths_list[{count}]')\n",
    "for image_path in image_paths_list[count:count+2]:\n",
    "    print(f'starting to process {image_path.name}')\n",
    "    autocrop(image_path, dpi=410, resize_height=1000, padding=50, original_icc_profile=True)\n",
    "    cropped_image_path = autocrop_directory_path.joinpath('00_cropped', image_path.name)\n",
    "    if cropped_image_path.is_file():\n",
    "        print(f'{image_path.name} was cropped')\n",
    "    count += 1"
   ]
  },
  {
   "cell_type": "code",
   "execution_count": 80,
   "metadata": {},
   "outputs": [
    {
     "name": "stdout",
     "output_type": "stream",
     "text": [
      "--- starting with image_paths_list[117]\n",
      "starting to process MS2686-1-1-3_0001.tif\n",
      "MS2686-1-1-3_0001.tif was cropped\n",
      "starting to process MS2686-1-1-3_0002.tif\n",
      "MS2686-1-1-3_0002.tif was cropped\n",
      "starting to process MS2686-1-1-3_0003.tif\n"
     ]
    },
    {
     "ename": "UnboundLocalError",
     "evalue": "local variable 'rect' referenced before assignment",
     "output_type": "error",
     "traceback": [
      "\u001b[1;31m---------------------------------------------------------------------------\u001b[0m",
      "\u001b[1;31mUnboundLocalError\u001b[0m                         Traceback (most recent call last)",
      "\u001b[1;32m<ipython-input-80-c5d75e0581bd>\u001b[0m in \u001b[0;36m<module>\u001b[1;34m\u001b[0m\n\u001b[0;32m      5\u001b[0m \u001b[1;32mfor\u001b[0m \u001b[0mimage_path\u001b[0m \u001b[1;32min\u001b[0m \u001b[0mimage_paths_list\u001b[0m\u001b[1;33m[\u001b[0m\u001b[0mcount\u001b[0m\u001b[1;33m:\u001b[0m\u001b[1;33m]\u001b[0m\u001b[1;33m:\u001b[0m\u001b[1;33m\u001b[0m\u001b[1;33m\u001b[0m\u001b[0m\n\u001b[0;32m      6\u001b[0m     \u001b[0mprint\u001b[0m\u001b[1;33m(\u001b[0m\u001b[1;34mf'starting to process {image_path.name}'\u001b[0m\u001b[1;33m)\u001b[0m\u001b[1;33m\u001b[0m\u001b[1;33m\u001b[0m\u001b[0m\n\u001b[1;32m----> 7\u001b[1;33m     \u001b[0mautocrop\u001b[0m\u001b[1;33m(\u001b[0m\u001b[0mimage_path\u001b[0m\u001b[1;33m,\u001b[0m \u001b[0mdpi\u001b[0m\u001b[1;33m=\u001b[0m\u001b[1;36m410\u001b[0m\u001b[1;33m,\u001b[0m \u001b[0mresize_height\u001b[0m\u001b[1;33m=\u001b[0m\u001b[1;36m500\u001b[0m\u001b[1;33m,\u001b[0m \u001b[0mpadding\u001b[0m\u001b[1;33m=\u001b[0m\u001b[1;36m50\u001b[0m\u001b[1;33m,\u001b[0m \u001b[0moriginal_icc_profile\u001b[0m\u001b[1;33m=\u001b[0m\u001b[1;32mTrue\u001b[0m\u001b[1;33m)\u001b[0m\u001b[1;33m\u001b[0m\u001b[1;33m\u001b[0m\u001b[0m\n\u001b[0m\u001b[0;32m      8\u001b[0m     \u001b[0mcropped_image_path\u001b[0m \u001b[1;33m=\u001b[0m \u001b[0mautocrop_directory_path\u001b[0m\u001b[1;33m.\u001b[0m\u001b[0mjoinpath\u001b[0m\u001b[1;33m(\u001b[0m\u001b[1;34m'00_cropped'\u001b[0m\u001b[1;33m,\u001b[0m \u001b[0mimage_path\u001b[0m\u001b[1;33m.\u001b[0m\u001b[0mname\u001b[0m\u001b[1;33m)\u001b[0m\u001b[1;33m\u001b[0m\u001b[1;33m\u001b[0m\u001b[0m\n\u001b[0;32m      9\u001b[0m     \u001b[1;32mif\u001b[0m \u001b[0mcropped_image_path\u001b[0m\u001b[1;33m.\u001b[0m\u001b[0mis_file\u001b[0m\u001b[1;33m(\u001b[0m\u001b[1;33m)\u001b[0m\u001b[1;33m:\u001b[0m\u001b[1;33m\u001b[0m\u001b[1;33m\u001b[0m\u001b[0m\n",
      "\u001b[1;32m<ipython-input-41-20cf9ce558c4>\u001b[0m in \u001b[0;36mautocrop\u001b[1;34m(image_path, compression, resize_height, dpi, padding, original_icc_profile, rotate_odd_even)\u001b[0m\n\u001b[0;32m    114\u001b[0m \u001b[1;33m\u001b[0m\u001b[0m\n\u001b[0;32m    115\u001b[0m     \u001b[1;31m# multiply the rectangle by the original ratio\u001b[0m\u001b[1;33m\u001b[0m\u001b[1;33m\u001b[0m\u001b[1;33m\u001b[0m\u001b[0m\n\u001b[1;32m--> 116\u001b[1;33m     \u001b[0mrect\u001b[0m \u001b[1;33m*=\u001b[0m \u001b[0mratio\u001b[0m\u001b[1;33m\u001b[0m\u001b[1;33m\u001b[0m\u001b[0m\n\u001b[0m\u001b[0;32m    117\u001b[0m \u001b[1;33m\u001b[0m\u001b[0m\n\u001b[0;32m    118\u001b[0m     \u001b[1;31m# find the points we need to crop the full size original\u001b[0m\u001b[1;33m\u001b[0m\u001b[1;33m\u001b[0m\u001b[1;33m\u001b[0m\u001b[0m\n",
      "\u001b[1;31mUnboundLocalError\u001b[0m: local variable 'rect' referenced before assignment"
     ]
    }
   ],
   "source": [
    "# process every image in image_paths_list, adding in a set number for count because i done goofed and needed to go\n",
    "#back to that file\n",
    "\n",
    "print(f'--- starting with image_paths_list[{count}]')\n",
    "for image_path in image_paths_list[count:]:\n",
    "    print(f'starting to process {image_path.name}')\n",
    "    autocrop(image_path, dpi=410, resize_height=500, padding=50, original_icc_profile=True)\n",
    "    cropped_image_path = autocrop_directory_path.joinpath('00_cropped', image_path.name)\n",
    "    if cropped_image_path.is_file():\n",
    "        print(f'{image_path.name} was cropped')\n",
    "    count += 1"
   ]
  },
  {
   "cell_type": "code",
   "execution_count": 81,
   "metadata": {},
   "outputs": [
    {
     "data": {
      "text/plain": [
       "119"
      ]
     },
     "execution_count": 81,
     "metadata": {},
     "output_type": "execute_result"
    }
   ],
   "source": [
    "count"
   ]
  },
  {
   "cell_type": "code",
   "execution_count": 82,
   "metadata": {},
   "outputs": [
    {
     "data": {
      "text/plain": [
       "WindowsPath('data/ex1/MS2686-1-1-3_0003.tif')"
      ]
     },
     "execution_count": 82,
     "metadata": {},
     "output_type": "execute_result"
    }
   ],
   "source": [
    "image_paths_list[count]"
   ]
  },
  {
   "cell_type": "code",
   "execution_count": 83,
   "metadata": {},
   "outputs": [
    {
     "name": "stdout",
     "output_type": "stream",
     "text": [
      "--- starting with image_paths_list[119]\n",
      "starting to process MS2686-1-1-3_0003.tif\n",
      "MS2686-1-1-3_0003.tif was cropped\n",
      "starting to process MS2686-1-1-3_0004.tif\n",
      "MS2686-1-1-3_0004.tif was cropped\n"
     ]
    }
   ],
   "source": [
    "# process every image in image_paths_list, adding in a set number for count because i done goofed and needed to go\n",
    "#back to that file\n",
    "\n",
    "print(f'--- starting with image_paths_list[{count}]')\n",
    "for image_path in image_paths_list[count:count+2]:\n",
    "    print(f'starting to process {image_path.name}')\n",
    "    autocrop(image_path, dpi=410, resize_height=1000, padding=50, original_icc_profile=True)\n",
    "    cropped_image_path = autocrop_directory_path.joinpath('00_cropped', image_path.name)\n",
    "    if cropped_image_path.is_file():\n",
    "        print(f'{image_path.name} was cropped')\n",
    "    count += 1"
   ]
  },
  {
   "cell_type": "code",
   "execution_count": 84,
   "metadata": {},
   "outputs": [
    {
     "name": "stdout",
     "output_type": "stream",
     "text": [
      "--- starting with image_paths_list[121]\n",
      "starting to process MS2686-1-1-3_0005.tif\n",
      "MS2686-1-1-3_0005.tif was cropped\n",
      "starting to process MS2686-1-1-3_0006.tif\n",
      "MS2686-1-1-3_0006.tif was cropped\n",
      "starting to process MS2686-1-1-3_0007.tif\n"
     ]
    },
    {
     "ename": "UnboundLocalError",
     "evalue": "local variable 'rect' referenced before assignment",
     "output_type": "error",
     "traceback": [
      "\u001b[1;31m---------------------------------------------------------------------------\u001b[0m",
      "\u001b[1;31mUnboundLocalError\u001b[0m                         Traceback (most recent call last)",
      "\u001b[1;32m<ipython-input-84-c5d75e0581bd>\u001b[0m in \u001b[0;36m<module>\u001b[1;34m\u001b[0m\n\u001b[0;32m      5\u001b[0m \u001b[1;32mfor\u001b[0m \u001b[0mimage_path\u001b[0m \u001b[1;32min\u001b[0m \u001b[0mimage_paths_list\u001b[0m\u001b[1;33m[\u001b[0m\u001b[0mcount\u001b[0m\u001b[1;33m:\u001b[0m\u001b[1;33m]\u001b[0m\u001b[1;33m:\u001b[0m\u001b[1;33m\u001b[0m\u001b[1;33m\u001b[0m\u001b[0m\n\u001b[0;32m      6\u001b[0m     \u001b[0mprint\u001b[0m\u001b[1;33m(\u001b[0m\u001b[1;34mf'starting to process {image_path.name}'\u001b[0m\u001b[1;33m)\u001b[0m\u001b[1;33m\u001b[0m\u001b[1;33m\u001b[0m\u001b[0m\n\u001b[1;32m----> 7\u001b[1;33m     \u001b[0mautocrop\u001b[0m\u001b[1;33m(\u001b[0m\u001b[0mimage_path\u001b[0m\u001b[1;33m,\u001b[0m \u001b[0mdpi\u001b[0m\u001b[1;33m=\u001b[0m\u001b[1;36m410\u001b[0m\u001b[1;33m,\u001b[0m \u001b[0mresize_height\u001b[0m\u001b[1;33m=\u001b[0m\u001b[1;36m500\u001b[0m\u001b[1;33m,\u001b[0m \u001b[0mpadding\u001b[0m\u001b[1;33m=\u001b[0m\u001b[1;36m50\u001b[0m\u001b[1;33m,\u001b[0m \u001b[0moriginal_icc_profile\u001b[0m\u001b[1;33m=\u001b[0m\u001b[1;32mTrue\u001b[0m\u001b[1;33m)\u001b[0m\u001b[1;33m\u001b[0m\u001b[1;33m\u001b[0m\u001b[0m\n\u001b[0m\u001b[0;32m      8\u001b[0m     \u001b[0mcropped_image_path\u001b[0m \u001b[1;33m=\u001b[0m \u001b[0mautocrop_directory_path\u001b[0m\u001b[1;33m.\u001b[0m\u001b[0mjoinpath\u001b[0m\u001b[1;33m(\u001b[0m\u001b[1;34m'00_cropped'\u001b[0m\u001b[1;33m,\u001b[0m \u001b[0mimage_path\u001b[0m\u001b[1;33m.\u001b[0m\u001b[0mname\u001b[0m\u001b[1;33m)\u001b[0m\u001b[1;33m\u001b[0m\u001b[1;33m\u001b[0m\u001b[0m\n\u001b[0;32m      9\u001b[0m     \u001b[1;32mif\u001b[0m \u001b[0mcropped_image_path\u001b[0m\u001b[1;33m.\u001b[0m\u001b[0mis_file\u001b[0m\u001b[1;33m(\u001b[0m\u001b[1;33m)\u001b[0m\u001b[1;33m:\u001b[0m\u001b[1;33m\u001b[0m\u001b[1;33m\u001b[0m\u001b[0m\n",
      "\u001b[1;32m<ipython-input-41-20cf9ce558c4>\u001b[0m in \u001b[0;36mautocrop\u001b[1;34m(image_path, compression, resize_height, dpi, padding, original_icc_profile, rotate_odd_even)\u001b[0m\n\u001b[0;32m    114\u001b[0m \u001b[1;33m\u001b[0m\u001b[0m\n\u001b[0;32m    115\u001b[0m     \u001b[1;31m# multiply the rectangle by the original ratio\u001b[0m\u001b[1;33m\u001b[0m\u001b[1;33m\u001b[0m\u001b[1;33m\u001b[0m\u001b[0m\n\u001b[1;32m--> 116\u001b[1;33m     \u001b[0mrect\u001b[0m \u001b[1;33m*=\u001b[0m \u001b[0mratio\u001b[0m\u001b[1;33m\u001b[0m\u001b[1;33m\u001b[0m\u001b[0m\n\u001b[0m\u001b[0;32m    117\u001b[0m \u001b[1;33m\u001b[0m\u001b[0m\n\u001b[0;32m    118\u001b[0m     \u001b[1;31m# find the points we need to crop the full size original\u001b[0m\u001b[1;33m\u001b[0m\u001b[1;33m\u001b[0m\u001b[1;33m\u001b[0m\u001b[0m\n",
      "\u001b[1;31mUnboundLocalError\u001b[0m: local variable 'rect' referenced before assignment"
     ]
    }
   ],
   "source": [
    "# process every image in image_paths_list, adding in a set number for count because i done goofed and needed to go\n",
    "#back to that file\n",
    "\n",
    "print(f'--- starting with image_paths_list[{count}]')\n",
    "for image_path in image_paths_list[count:]:\n",
    "    print(f'starting to process {image_path.name}')\n",
    "    autocrop(image_path, dpi=410, resize_height=500, padding=50, original_icc_profile=True)\n",
    "    cropped_image_path = autocrop_directory_path.joinpath('00_cropped', image_path.name)\n",
    "    if cropped_image_path.is_file():\n",
    "        print(f'{image_path.name} was cropped')\n",
    "    count += 1"
   ]
  },
  {
   "cell_type": "code",
   "execution_count": 85,
   "metadata": {},
   "outputs": [
    {
     "name": "stdout",
     "output_type": "stream",
     "text": [
      "--- starting with image_paths_list[123]\n",
      "starting to process MS2686-1-1-3_0007.tif\n"
     ]
    },
    {
     "ename": "UnboundLocalError",
     "evalue": "local variable 'rect' referenced before assignment",
     "output_type": "error",
     "traceback": [
      "\u001b[1;31m---------------------------------------------------------------------------\u001b[0m",
      "\u001b[1;31mUnboundLocalError\u001b[0m                         Traceback (most recent call last)",
      "\u001b[1;32m<ipython-input-85-c5d75e0581bd>\u001b[0m in \u001b[0;36m<module>\u001b[1;34m\u001b[0m\n\u001b[0;32m      5\u001b[0m \u001b[1;32mfor\u001b[0m \u001b[0mimage_path\u001b[0m \u001b[1;32min\u001b[0m \u001b[0mimage_paths_list\u001b[0m\u001b[1;33m[\u001b[0m\u001b[0mcount\u001b[0m\u001b[1;33m:\u001b[0m\u001b[1;33m]\u001b[0m\u001b[1;33m:\u001b[0m\u001b[1;33m\u001b[0m\u001b[1;33m\u001b[0m\u001b[0m\n\u001b[0;32m      6\u001b[0m     \u001b[0mprint\u001b[0m\u001b[1;33m(\u001b[0m\u001b[1;34mf'starting to process {image_path.name}'\u001b[0m\u001b[1;33m)\u001b[0m\u001b[1;33m\u001b[0m\u001b[1;33m\u001b[0m\u001b[0m\n\u001b[1;32m----> 7\u001b[1;33m     \u001b[0mautocrop\u001b[0m\u001b[1;33m(\u001b[0m\u001b[0mimage_path\u001b[0m\u001b[1;33m,\u001b[0m \u001b[0mdpi\u001b[0m\u001b[1;33m=\u001b[0m\u001b[1;36m410\u001b[0m\u001b[1;33m,\u001b[0m \u001b[0mresize_height\u001b[0m\u001b[1;33m=\u001b[0m\u001b[1;36m500\u001b[0m\u001b[1;33m,\u001b[0m \u001b[0mpadding\u001b[0m\u001b[1;33m=\u001b[0m\u001b[1;36m50\u001b[0m\u001b[1;33m,\u001b[0m \u001b[0moriginal_icc_profile\u001b[0m\u001b[1;33m=\u001b[0m\u001b[1;32mTrue\u001b[0m\u001b[1;33m)\u001b[0m\u001b[1;33m\u001b[0m\u001b[1;33m\u001b[0m\u001b[0m\n\u001b[0m\u001b[0;32m      8\u001b[0m     \u001b[0mcropped_image_path\u001b[0m \u001b[1;33m=\u001b[0m \u001b[0mautocrop_directory_path\u001b[0m\u001b[1;33m.\u001b[0m\u001b[0mjoinpath\u001b[0m\u001b[1;33m(\u001b[0m\u001b[1;34m'00_cropped'\u001b[0m\u001b[1;33m,\u001b[0m \u001b[0mimage_path\u001b[0m\u001b[1;33m.\u001b[0m\u001b[0mname\u001b[0m\u001b[1;33m)\u001b[0m\u001b[1;33m\u001b[0m\u001b[1;33m\u001b[0m\u001b[0m\n\u001b[0;32m      9\u001b[0m     \u001b[1;32mif\u001b[0m \u001b[0mcropped_image_path\u001b[0m\u001b[1;33m.\u001b[0m\u001b[0mis_file\u001b[0m\u001b[1;33m(\u001b[0m\u001b[1;33m)\u001b[0m\u001b[1;33m:\u001b[0m\u001b[1;33m\u001b[0m\u001b[1;33m\u001b[0m\u001b[0m\n",
      "\u001b[1;32m<ipython-input-41-20cf9ce558c4>\u001b[0m in \u001b[0;36mautocrop\u001b[1;34m(image_path, compression, resize_height, dpi, padding, original_icc_profile, rotate_odd_even)\u001b[0m\n\u001b[0;32m    114\u001b[0m \u001b[1;33m\u001b[0m\u001b[0m\n\u001b[0;32m    115\u001b[0m     \u001b[1;31m# multiply the rectangle by the original ratio\u001b[0m\u001b[1;33m\u001b[0m\u001b[1;33m\u001b[0m\u001b[1;33m\u001b[0m\u001b[0m\n\u001b[1;32m--> 116\u001b[1;33m     \u001b[0mrect\u001b[0m \u001b[1;33m*=\u001b[0m \u001b[0mratio\u001b[0m\u001b[1;33m\u001b[0m\u001b[1;33m\u001b[0m\u001b[0m\n\u001b[0m\u001b[0;32m    117\u001b[0m \u001b[1;33m\u001b[0m\u001b[0m\n\u001b[0;32m    118\u001b[0m     \u001b[1;31m# find the points we need to crop the full size original\u001b[0m\u001b[1;33m\u001b[0m\u001b[1;33m\u001b[0m\u001b[1;33m\u001b[0m\u001b[0m\n",
      "\u001b[1;31mUnboundLocalError\u001b[0m: local variable 'rect' referenced before assignment"
     ]
    }
   ],
   "source": [
    "# process every image in image_paths_list, adding in a set number for count because i done goofed and needed to go\n",
    "#back to that file\n",
    "\n",
    "print(f'--- starting with image_paths_list[{count}]')\n",
    "for image_path in image_paths_list[count:]:\n",
    "    print(f'starting to process {image_path.name}')\n",
    "    autocrop(image_path, dpi=410, resize_height=500, padding=50, original_icc_profile=True)\n",
    "    cropped_image_path = autocrop_directory_path.joinpath('00_cropped', image_path.name)\n",
    "    if cropped_image_path.is_file():\n",
    "        print(f'{image_path.name} was cropped')\n",
    "    count += 1"
   ]
  },
  {
   "cell_type": "code",
   "execution_count": 86,
   "metadata": {},
   "outputs": [
    {
     "name": "stdout",
     "output_type": "stream",
     "text": [
      "--- starting with image_paths_list[123]\n",
      "starting to process MS2686-1-1-3_0007.tif\n",
      "MS2686-1-1-3_0007.tif was cropped\n",
      "starting to process MS2686-1-1-3_0008.tif\n",
      "MS2686-1-1-3_0008.tif was cropped\n"
     ]
    }
   ],
   "source": [
    "# process every image in image_paths_list, adding in a set number for count because i done goofed and needed to go\n",
    "#back to that file\n",
    "\n",
    "print(f'--- starting with image_paths_list[{count}]')\n",
    "for image_path in image_paths_list[count:]:\n",
    "    print(f'starting to process {image_path.name}')\n",
    "    autocrop(image_path, dpi=410, resize_height=1000, padding=50, original_icc_profile=True)\n",
    "    cropped_image_path = autocrop_directory_path.joinpath('00_cropped', image_path.name)\n",
    "    if cropped_image_path.is_file():\n",
    "        print(f'{image_path.name} was cropped')\n",
    "    count += 1"
   ]
  },
  {
   "cell_type": "code",
   "execution_count": null,
   "metadata": {},
   "outputs": [],
   "source": []
  }
 ],
 "metadata": {
  "kernelspec": {
   "display_name": "Python 3",
   "language": "python",
   "name": "python3"
  },
  "language_info": {
   "codemirror_mode": {
    "name": "ipython",
    "version": 3
   },
   "file_extension": ".py",
   "mimetype": "text/x-python",
   "name": "python",
   "nbconvert_exporter": "python",
   "pygments_lexer": "ipython3",
   "version": "3.6.8"
  }
 },
 "nbformat": 4,
 "nbformat_minor": 2
}
